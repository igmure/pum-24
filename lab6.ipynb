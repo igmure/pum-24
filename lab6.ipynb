{
 "cells": [
  {
   "cell_type": "markdown",
   "id": "ad10fe87c955413f",
   "metadata": {},
   "source": [
    "# Lab 6: Visualizing the training process of neural networks. Hyperparameter tuning.\n",
    "\n",
    "In this lab, you will learn how to use [wandb](https://wandb.ai/) to visualize the training process of neural networks. We are going to build and train a feed-forward neural network for recognizing handwritten digits of the MNIST dataset. The training process will be visualized in the wandb dashboard, which will allow us to monitor the loss and accuracy of the model in real-time.\n",
    "\n",
    "---\n",
    "\n",
    "\n",
    "\n",
    "Feel free to create an account at [wandb.ai](https://wandb.ai/) before starting this lab.\n",
    "\n",
    "### A simple example of how to use wandb in a typical training loop is shown below:\n",
    "\n",
    "```python\n",
    "import wandb\n",
    "\n",
    "wandb.login() # Log in to your wandb account\n",
    "\n",
    "# Start a new run\n",
    "\n",
    "some_config = {\n",
    "    'learning_rate': 0.01,\n",
    "    'layer_1_size': 128,\n",
    "    'layer_2_size': 64,\n",
    "    'batch_size': 32\n",
    "} # This is just an example of a configuration dictionary, you can put anything you want here\n",
    "\n",
    "wandb.init(project='mnist-classifier', config=some_config) # start a new run and log parameters\n",
    "\n",
    "# Here you would prepare your data, and initialize the model, optimizer, etc.\n",
    "\n",
    "# Training loop\n",
    "for epoch in range(100):\n",
    "    ...\n",
    "    wandb.log({'loss': loss, 'accuracy': accuracy})\n",
    "    # This will send the loss and accuracy to wandb and you can visualize it in the dashboard\n",
    "\n",
    "# End of the run\n",
    "wandb.finish()\n",
    "```\n",
    "\n",
    "The most important part is the `wandb.log()` function, which sends the data to the wandb dashboard. You can log any metric you want, not just loss and accuracy. The value passed to the function must be a dictionary.\n"
   ]
  },
  {
   "cell_type": "markdown",
   "id": "50c701a2dc778ba9",
   "metadata": {},
   "source": [
    "## Exercise 1: Prepare data for training a mnist classifier (2 points)\n",
    "\n",
    "Before you start training a neural network, you need to prepare the data. In this exercise, you will prepare the MNIST dataset of handwritten digits for training a classifier. You should:\n",
    "\n",
    "1. Load the MNIST dataset using from `data/mnist_train.csv` and `data/mnist_test.csv` files.\n",
    "2. Normalize the data to the range [0, 1].\n",
    "3. Encode the labels using one-hot encoding.\n",
    "4. Create a PyTorch `Dataset` object for the training and test sets.\n",
    "5. Create a PyTorch `DataLoader` object for the training and test sets."
   ]
  },
  {
   "cell_type": "code",
   "execution_count": 2,
   "id": "1c45867b",
   "metadata": {},
   "outputs": [],
   "source": [
    "import pandas as pd\n",
    "\n",
    "'''\n",
    "The mnist_train.csv file contains the 60,000 training examples and labels. \n",
    "The mnist_test.csv contains 10,000 test examples and labels. Each row consists of 785 values: the first value is the label \n",
    "(a number from 0 to 9) and the remaining 784 values are the pixel values (a number from 0 to 255).\n",
    "'''\n",
    "# Load the MNIST dataset\n",
    "train_data = pd.read_csv('data/mnist_train.csv') \n",
    "test_data = pd.read_csv('data/mnist_test.csv')\n"
   ]
  },
  {
   "cell_type": "code",
   "execution_count": 3,
   "id": "82aa9861",
   "metadata": {},
   "outputs": [
    {
     "data": {
      "text/plain": [
       "0        0\n",
       "1        4\n",
       "2        1\n",
       "3        9\n",
       "4        2\n",
       "        ..\n",
       "59994    8\n",
       "59995    3\n",
       "59996    5\n",
       "59997    6\n",
       "59998    8\n",
       "Name: 5, Length: 59999, dtype: int64"
      ]
     },
     "execution_count": 3,
     "metadata": {},
     "output_type": "execute_result"
    }
   ],
   "source": [
    "train_data.iloc[:,0]"
   ]
  },
  {
   "cell_type": "code",
   "execution_count": 4,
   "id": "791a8dd0",
   "metadata": {},
   "outputs": [],
   "source": [
    "# Normalize the data to the range [0, 1]\n",
    "train_data.iloc[:, 1:] = train_data.iloc[:, 1:] / 255.0\n",
    "test_data.iloc[:, 1:] = test_data.iloc[:, 1:] / 255.0"
   ]
  },
  {
   "cell_type": "code",
   "execution_count": 5,
   "id": "4a956e59",
   "metadata": {},
   "outputs": [
    {
     "data": {
      "text/html": [
       "<div>\n",
       "<style scoped>\n",
       "    .dataframe tbody tr th:only-of-type {\n",
       "        vertical-align: middle;\n",
       "    }\n",
       "\n",
       "    .dataframe tbody tr th {\n",
       "        vertical-align: top;\n",
       "    }\n",
       "\n",
       "    .dataframe thead th {\n",
       "        text-align: right;\n",
       "    }\n",
       "</style>\n",
       "<table border=\"1\" class=\"dataframe\">\n",
       "  <thead>\n",
       "    <tr style=\"text-align: right;\">\n",
       "      <th></th>\n",
       "      <th>0</th>\n",
       "      <th>1</th>\n",
       "      <th>2</th>\n",
       "      <th>3</th>\n",
       "      <th>4</th>\n",
       "      <th>5</th>\n",
       "      <th>6</th>\n",
       "      <th>7</th>\n",
       "      <th>8</th>\n",
       "      <th>9</th>\n",
       "    </tr>\n",
       "  </thead>\n",
       "  <tbody>\n",
       "    <tr>\n",
       "      <th>0</th>\n",
       "      <td>1</td>\n",
       "      <td>0</td>\n",
       "      <td>0</td>\n",
       "      <td>0</td>\n",
       "      <td>0</td>\n",
       "      <td>0</td>\n",
       "      <td>0</td>\n",
       "      <td>0</td>\n",
       "      <td>0</td>\n",
       "      <td>0</td>\n",
       "    </tr>\n",
       "    <tr>\n",
       "      <th>1</th>\n",
       "      <td>0</td>\n",
       "      <td>0</td>\n",
       "      <td>0</td>\n",
       "      <td>0</td>\n",
       "      <td>1</td>\n",
       "      <td>0</td>\n",
       "      <td>0</td>\n",
       "      <td>0</td>\n",
       "      <td>0</td>\n",
       "      <td>0</td>\n",
       "    </tr>\n",
       "    <tr>\n",
       "      <th>2</th>\n",
       "      <td>0</td>\n",
       "      <td>1</td>\n",
       "      <td>0</td>\n",
       "      <td>0</td>\n",
       "      <td>0</td>\n",
       "      <td>0</td>\n",
       "      <td>0</td>\n",
       "      <td>0</td>\n",
       "      <td>0</td>\n",
       "      <td>0</td>\n",
       "    </tr>\n",
       "    <tr>\n",
       "      <th>3</th>\n",
       "      <td>0</td>\n",
       "      <td>0</td>\n",
       "      <td>0</td>\n",
       "      <td>0</td>\n",
       "      <td>0</td>\n",
       "      <td>0</td>\n",
       "      <td>0</td>\n",
       "      <td>0</td>\n",
       "      <td>0</td>\n",
       "      <td>1</td>\n",
       "    </tr>\n",
       "    <tr>\n",
       "      <th>4</th>\n",
       "      <td>0</td>\n",
       "      <td>0</td>\n",
       "      <td>1</td>\n",
       "      <td>0</td>\n",
       "      <td>0</td>\n",
       "      <td>0</td>\n",
       "      <td>0</td>\n",
       "      <td>0</td>\n",
       "      <td>0</td>\n",
       "      <td>0</td>\n",
       "    </tr>\n",
       "    <tr>\n",
       "      <th>...</th>\n",
       "      <td>...</td>\n",
       "      <td>...</td>\n",
       "      <td>...</td>\n",
       "      <td>...</td>\n",
       "      <td>...</td>\n",
       "      <td>...</td>\n",
       "      <td>...</td>\n",
       "      <td>...</td>\n",
       "      <td>...</td>\n",
       "      <td>...</td>\n",
       "    </tr>\n",
       "    <tr>\n",
       "      <th>59994</th>\n",
       "      <td>0</td>\n",
       "      <td>0</td>\n",
       "      <td>0</td>\n",
       "      <td>0</td>\n",
       "      <td>0</td>\n",
       "      <td>0</td>\n",
       "      <td>0</td>\n",
       "      <td>0</td>\n",
       "      <td>1</td>\n",
       "      <td>0</td>\n",
       "    </tr>\n",
       "    <tr>\n",
       "      <th>59995</th>\n",
       "      <td>0</td>\n",
       "      <td>0</td>\n",
       "      <td>0</td>\n",
       "      <td>1</td>\n",
       "      <td>0</td>\n",
       "      <td>0</td>\n",
       "      <td>0</td>\n",
       "      <td>0</td>\n",
       "      <td>0</td>\n",
       "      <td>0</td>\n",
       "    </tr>\n",
       "    <tr>\n",
       "      <th>59996</th>\n",
       "      <td>0</td>\n",
       "      <td>0</td>\n",
       "      <td>0</td>\n",
       "      <td>0</td>\n",
       "      <td>0</td>\n",
       "      <td>1</td>\n",
       "      <td>0</td>\n",
       "      <td>0</td>\n",
       "      <td>0</td>\n",
       "      <td>0</td>\n",
       "    </tr>\n",
       "    <tr>\n",
       "      <th>59997</th>\n",
       "      <td>0</td>\n",
       "      <td>0</td>\n",
       "      <td>0</td>\n",
       "      <td>0</td>\n",
       "      <td>0</td>\n",
       "      <td>0</td>\n",
       "      <td>1</td>\n",
       "      <td>0</td>\n",
       "      <td>0</td>\n",
       "      <td>0</td>\n",
       "    </tr>\n",
       "    <tr>\n",
       "      <th>59998</th>\n",
       "      <td>0</td>\n",
       "      <td>0</td>\n",
       "      <td>0</td>\n",
       "      <td>0</td>\n",
       "      <td>0</td>\n",
       "      <td>0</td>\n",
       "      <td>0</td>\n",
       "      <td>0</td>\n",
       "      <td>1</td>\n",
       "      <td>0</td>\n",
       "    </tr>\n",
       "  </tbody>\n",
       "</table>\n",
       "<p>59999 rows × 10 columns</p>\n",
       "</div>"
      ],
      "text/plain": [
       "       0  1  2  3  4  5  6  7  8  9\n",
       "0      1  0  0  0  0  0  0  0  0  0\n",
       "1      0  0  0  0  1  0  0  0  0  0\n",
       "2      0  1  0  0  0  0  0  0  0  0\n",
       "3      0  0  0  0  0  0  0  0  0  1\n",
       "4      0  0  1  0  0  0  0  0  0  0\n",
       "...   .. .. .. .. .. .. .. .. .. ..\n",
       "59994  0  0  0  0  0  0  0  0  1  0\n",
       "59995  0  0  0  1  0  0  0  0  0  0\n",
       "59996  0  0  0  0  0  1  0  0  0  0\n",
       "59997  0  0  0  0  0  0  1  0  0  0\n",
       "59998  0  0  0  0  0  0  0  0  1  0\n",
       "\n",
       "[59999 rows x 10 columns]"
      ]
     },
     "execution_count": 5,
     "metadata": {},
     "output_type": "execute_result"
    }
   ],
   "source": [
    "# Encode the labels using one-hot encoding\n",
    "train_labels = pd.get_dummies(train_data.iloc[:, 0])\n",
    "test_labels = pd.get_dummies(test_data.iloc[:, 0])\n",
    "\n",
    "train_labels"
   ]
  },
  {
   "cell_type": "code",
   "execution_count": 6,
   "id": "4536a78c",
   "metadata": {},
   "outputs": [],
   "source": [
    "import torch\n",
    "\n",
    "# Convert data and labels to tensors\n",
    "train_data_tensor = torch.tensor(train_data.iloc[:, 1:].values, dtype=torch.float32)\n",
    "train_labels_tensor = torch.tensor(train_labels.values, dtype=torch.float32)\n",
    "test_data_tensor = torch.tensor(test_data.iloc[:, 1:].values, dtype=torch.float32)\n",
    "test_labels_tensor = torch.tensor(test_labels.values, dtype=torch.float32)\n",
    "\n",
    "# Create the train and test datasets\n",
    "train_dataset = torch.utils.data.TensorDataset(train_data_tensor, train_labels_tensor)\n",
    "test_dataset = torch.utils.data.TensorDataset(test_data_tensor, test_labels_tensor)\n"
   ]
  },
  {
   "cell_type": "code",
   "execution_count": 7,
   "id": "0b61ea3c",
   "metadata": {},
   "outputs": [
    {
     "name": "stdout",
     "output_type": "stream",
     "text": [
      "Train batches: 1875\n",
      "Test batches: 313\n"
     ]
    }
   ],
   "source": [
    "from torch.utils.data import DataLoader\n",
    "\n",
    "# Create the train and test dataloaders\n",
    "train_dataloader = DataLoader(train_dataset, batch_size=32, shuffle=True)\n",
    "test_dataloader = DataLoader(test_dataset, batch_size=32, shuffle=False)\n",
    "\n",
    "print(f'Train batches: {len(train_dataloader)}')\n",
    "print(f'Test batches: {len(test_dataloader)}')\n"
   ]
  },
  {
   "cell_type": "code",
   "execution_count": 8,
   "id": "e6616a2f",
   "metadata": {},
   "outputs": [
    {
     "name": "stdout",
     "output_type": "stream",
     "text": [
      "X is a tensor of shape: torch.Size([32, 784])\n",
      "y is a tensor of shape: torch.Size([32, 10])\n"
     ]
    }
   ],
   "source": [
    "# we can iterate over the dataloader to see how it works\n",
    "\n",
    "X, y = next(iter(train_dataloader))\n",
    "\n",
    "print(\"X is a tensor of shape:\", X.shape)\n",
    "print(\"y is a tensor of shape:\", y.shape)"
   ]
  },
  {
   "cell_type": "markdown",
   "id": "8d5dc7e06a81f23f",
   "metadata": {},
   "source": [
    "## Exercise 2: Prepare the architecture of the neural network (2 points)\n",
    "\n",
    "In this exercise, you will prepare the architecture of the neural network. You should:\n",
    "\n",
    "1. Create a neural network class that inherits from `torch.nn.Module`.\n",
    "2. The neural network should have at least one hidden layer.\n",
    "3. Use ReLU activation functions after each but the output layer.\n",
    "4. Use a softmax activation function in the output layer to get the probabilities of each class.\n",
    "\n",
    "**Feel free to experiment with the architecture of your network** - try adding more hidden layers, changing the number of neurons in each layer, etc. You can also add a dropout layer or some other regularization technique and see if it improves the performance of your model."
   ]
  },
  {
   "cell_type": "code",
   "execution_count": 9,
   "id": "c22cce40",
   "metadata": {},
   "outputs": [
    {
     "name": "stdout",
     "output_type": "stream",
     "text": [
      "NeuralNetwork(\n",
      "  (fc1): Linear(in_features=784, out_features=128, bias=True)\n",
      "  (fc2): Linear(in_features=128, out_features=64, bias=True)\n",
      "  (fc3): Linear(in_features=64, out_features=32, bias=True)\n",
      "  (fc4): Linear(in_features=32, out_features=10, bias=True)\n",
      "  (dropout): Dropout(p=0.0, inplace=False)\n",
      ")\n",
      "Output shape: torch.Size([32, 10])\n"
     ]
    }
   ],
   "source": [
    "import torch.nn as nn\n",
    "import torch.nn.functional as F\n",
    "\n",
    "class NeuralNetwork(nn.Module):\n",
    "    def __init__(self, input_size, hidden1_size, hidden2_size, hidden3_size, output_size, dropout_prob=0.0):\n",
    "        super(NeuralNetwork, self).__init__()\n",
    "        self.fc1 = nn.Linear(input_size, hidden1_size)\n",
    "        self.fc2 = nn.Linear(hidden1_size, hidden2_size)\n",
    "        self.fc3 = nn.Linear(hidden2_size, hidden3_size)\n",
    "        self.fc4 = nn.Linear(hidden3_size, output_size)\n",
    "        self.dropout = nn.Dropout(dropout_prob)\n",
    "    \n",
    "    def forward(self, x):\n",
    "        x = F.relu(self.fc1(x))\n",
    "        x = self.dropout(x)\n",
    "        x = F.relu(self.fc2(x))\n",
    "        x = self.dropout(x)\n",
    "        x = F.relu(self.fc3(x))\n",
    "        x = self.dropout(x)\n",
    "        x = F.softmax(self.fc4(x), dim=1)\n",
    "        return x\n",
    "\n",
    "# Initialize the model with input size 784 (28x28 images), hidden sizes 128, 64, 32, output size 10 (number of classes), and dropout probability 0.0\n",
    "model = NeuralNetwork(input_size=784, hidden1_size=128, hidden2_size=64, hidden3_size=32, output_size=10, dropout_prob=0.0)\n",
    "print(model)\n",
    "\n",
    "# Forward pass with a sample input tensor X\n",
    "output = model(X)\n",
    "print(\"Output shape:\", output.shape)"
   ]
  },
  {
   "cell_type": "code",
   "execution_count": 10,
   "id": "f9fc8d9f",
   "metadata": {},
   "outputs": [
    {
     "data": {
      "text/plain": [
       "device(type='cuda')"
      ]
     },
     "execution_count": 10,
     "metadata": {},
     "output_type": "execute_result"
    }
   ],
   "source": [
    "device = torch.device('cuda' if torch.cuda.is_available() else 'cpu')\n",
    "device"
   ]
  },
  {
   "cell_type": "markdown",
   "id": "49e2efbd440294eb",
   "metadata": {},
   "source": [
    "## *Training PyTorch models on GPU\n",
    "\n",
    "**GPUs are optimized for performing matrix operations in parallel.** Although we call them \"graphics processing units\", they are actually very powerful processors that can be used for any kind of parallel computation, including training deep neural networks. In fact, data science is one of the most common applications of GPUs today, as can be seen by the revenue of companies like NVIDIA over the past few years. NVIDIA is a monopolist in the GPU market - in 2023, the company owned 92% of the data center GPU market share. As for 31 July, the 2024 revenue of NVIDIA was 60.92 billion USD, while the total revenue of 2020 was $10.92 billion. If someone benefits from the current deep learning hype, it is certainly NVIDIA.\n",
    "\n",
    "If you happen to have an NVIDIA GPU in your computer, you can use it to train your deep learning models, as PyTorch has excellent support for CUDA, which is NVIDIA's parallel computing API. To train a model on GPU, you need to explicitly tell PyTorch to move the model and the data to the GPU. \n",
    "\n",
    "Here is an example training loop that uses the GPU:\n",
    "\n",
    "```python\n",
    "device = torch.device('cuda' if torch.cuda.is_available() else 'cpu')   # Check if a GPU is available\n",
    "\n",
    "# Initialize the model and move it to the GPU\n",
    "model = SomeNeuralNetwork().to(device)   # Move the model to the GPU\n",
    "\n",
    "for epoch in range(100):\n",
    "    for batch in data_loader:\n",
    "        X, y = batch\n",
    "        X, y = X.to(device), y.to(device)   # Move the tensors to GPU\n",
    "        \n",
    "        y_pred = model(X)   # Perform a forward pass (on the GPU)\n",
    "        loss = criterion(y_pred, y)   # Compute the loss (still on the GPU)\n",
    "        \n",
    "        ...  # The rest of the training loop\n",
    "        \n",
    "        y_pred = y_pred.detach().cpu()   # Move the predictions back to the CPU to do anything else with them\n",
    "```\n",
    "\n",
    "Note that **the model and all the tensors it uses for computation should be moved to the GPU**. You can do this by calling the `.to(device)` method on the model and the data tensors. If you want to move the data back to the CPU (to process it further, calculate metrics, visualize), you call the `.cpu()` method on the tensor.\n",
    "\n",
    "**Doing calculations on the GPU, you should be wary of few things:**\n",
    "\n",
    "* **The GPU has a limited amount of memory**, so you should be careful not to run out of memory. A typical graphics card has a few gigabytes of memory, so you should be fine with most models and datasets. However, moving very large tensors to the GPU can cause out-of-memory errors. That's one of the reasons why we use a dataloader and process the data in batches.\n",
    "* While the GPU is much faster than the CPU for large matrix operations, **transferring data between the CPU and the GPU is slow**. Therefore, it is best to minimize the number of data transfers between the CPU and the GPU."
   ]
  },
  {
   "cell_type": "markdown",
   "id": "e94574b231d68216",
   "metadata": {},
   "source": [
    "## Exercise 3: Prepare the training loop (2 points)\n",
    "\n",
    "In this exercise, you will prepare the training loop. You should:\n",
    "\n",
    "1. Initialize the neural network.\n",
    "2. Define the loss function (CrossEntropyLoss) and the optimizer (Adam).\n",
    "3. Pass a dictionary with the configuration to wandb. This dictionary should contain all the hyperparameters of our model, including the learning rate, the size of the hidden layers, batch size, etc.\n",
    "4. Train the neural network. Each epoch should consist of a training and validation phase. You should log the loss and accuracy of the training and validation sets using wandb.\n",
    "5. Open you project at [wandb.ai](https://wandb.ai/) and see how cool it is!\n",
    "\n",
    "### Saving and loading the model\n",
    "As training can take some time, it is a good idea to save the model's state dictionary (its learned weights) to a file after training. You can do this with the following code:\n",
    "\n",
    "    torch.save(vae.state_dict(), 'vae.pth')\n",
    "    \n",
    "To load the model from the file, you can use the following code:\n",
    "\n",
    "    vae.load_state_dict(torch.load('vae.pth'))"
   ]
  },
  {
   "cell_type": "code",
   "execution_count": 1,
   "id": "7456da95",
   "metadata": {},
   "outputs": [
    {
     "name": "stderr",
     "output_type": "stream",
     "text": [
      "\u001b[34m\u001b[1mwandb\u001b[0m: Currently logged in as: \u001b[33migmure\u001b[0m. Use \u001b[1m`wandb login --relogin`\u001b[0m to force relogin\n",
      "\u001b[34m\u001b[1mwandb\u001b[0m: \u001b[33mWARNING\u001b[0m If you're specifying your api key in code, ensure this code is not shared publicly.\n",
      "\u001b[34m\u001b[1mwandb\u001b[0m: \u001b[33mWARNING\u001b[0m Consider setting the WANDB_API_KEY environment variable, or running `wandb login` from the command line.\n",
      "\u001b[34m\u001b[1mwandb\u001b[0m: Appending key for api.wandb.ai to your netrc file: /home/ig/.netrc\n"
     ]
    },
    {
     "data": {
      "text/plain": [
       "True"
      ]
     },
     "execution_count": 1,
     "metadata": {},
     "output_type": "execute_result"
    }
   ],
   "source": [
    "import wandb\n",
    "wandb.login()"
   ]
  },
  {
   "cell_type": "code",
   "execution_count": 13,
   "id": "c822d9a4",
   "metadata": {},
   "outputs": [
    {
     "data": {
      "text/html": [
       "Tracking run with wandb version 0.19.4"
      ],
      "text/plain": [
       "<IPython.core.display.HTML object>"
      ]
     },
     "metadata": {},
     "output_type": "display_data"
    },
    {
     "data": {
      "text/html": [
       "Run data is saved locally in <code>/home/ig/ActiveProjects/pum-24/wandb/run-20250128_143903-y74tqwhk</code>"
      ],
      "text/plain": [
       "<IPython.core.display.HTML object>"
      ]
     },
     "metadata": {},
     "output_type": "display_data"
    },
    {
     "data": {
      "text/html": [
       "Syncing run <strong><a href='https://wandb.ai/igmure/mnist-classifier/runs/y74tqwhk' target=\"_blank\">still-puddle-2</a></strong> to <a href='https://wandb.ai/igmure/mnist-classifier' target=\"_blank\">Weights & Biases</a> (<a href='https://wandb.me/developer-guide' target=\"_blank\">docs</a>)<br>"
      ],
      "text/plain": [
       "<IPython.core.display.HTML object>"
      ]
     },
     "metadata": {},
     "output_type": "display_data"
    },
    {
     "data": {
      "text/html": [
       " View project at <a href='https://wandb.ai/igmure/mnist-classifier' target=\"_blank\">https://wandb.ai/igmure/mnist-classifier</a>"
      ],
      "text/plain": [
       "<IPython.core.display.HTML object>"
      ]
     },
     "metadata": {},
     "output_type": "display_data"
    },
    {
     "data": {
      "text/html": [
       " View run at <a href='https://wandb.ai/igmure/mnist-classifier/runs/y74tqwhk' target=\"_blank\">https://wandb.ai/igmure/mnist-classifier/runs/y74tqwhk</a>"
      ],
      "text/plain": [
       "<IPython.core.display.HTML object>"
      ]
     },
     "metadata": {},
     "output_type": "display_data"
    }
   ],
   "source": [
    "# Define the configuration dictionary\n",
    "config = {\n",
    "    'learning_rate': 0.001,\n",
    "    'batch_size': 32,\n",
    "    'epochs': 10,\n",
    "    'input_size': 784,\n",
    "    'hidden1_size': 128,\n",
    "    'hidden2_size': 64,\n",
    "    'hidden3_size': 32,\n",
    "    'output_size': 10,\n",
    "    'dropout_prob': 0.25\n",
    "}\n",
    "\n",
    "# Initialize wandb with the configuration\n",
    "wandb.init(project='mnist-classifier', config=config)\n",
    "\n",
    "# Initialize the model, loss function, and optimizer\n",
    "model = NeuralNetwork(\n",
    "    input_size=config['input_size'],\n",
    "    hidden1_size=config['hidden1_size'],\n",
    "    hidden2_size=config['hidden2_size'],\n",
    "    hidden3_size=config['hidden3_size'],\n",
    "    output_size=config['output_size'],\n",
    "    dropout_prob=config['dropout_prob']\n",
    ").to(device)\n",
    "\n",
    "criterion = nn.CrossEntropyLoss()\n",
    "optimizer = torch.optim.Adam(model.parameters(), lr=config['learning_rate'])\n",
    "\n",
    "\n",
    "# Training loop"
   ]
  },
  {
   "cell_type": "code",
   "execution_count": 14,
   "id": "bd512b67",
   "metadata": {},
   "outputs": [
    {
     "name": "stdout",
     "output_type": "stream",
     "text": [
      "Epoch 1/10, Train Loss: 1.6642, Train Accuracy: 0.8063, Val Loss: 1.5371, Val Accuracy: 0.9253\n",
      "Epoch 2/10, Train Loss: 1.5270, Train Accuracy: 0.9352, Val Loss: 1.5179, Val Accuracy: 0.9439\n",
      "Epoch 3/10, Train Loss: 1.5105, Train Accuracy: 0.9511, Val Loss: 1.5127, Val Accuracy: 0.9481\n",
      "Epoch 4/10, Train Loss: 1.5021, Train Accuracy: 0.9595, Val Loss: 1.5076, Val Accuracy: 0.9546\n",
      "Epoch 5/10, Train Loss: 1.4978, Train Accuracy: 0.9636, Val Loss: 1.5005, Val Accuracy: 0.9599\n",
      "Epoch 6/10, Train Loss: 1.4932, Train Accuracy: 0.9681, Val Loss: 1.4951, Val Accuracy: 0.9662\n",
      "Epoch 7/10, Train Loss: 1.4917, Train Accuracy: 0.9697, Val Loss: 1.4984, Val Accuracy: 0.9625\n",
      "Epoch 8/10, Train Loss: 1.4899, Train Accuracy: 0.9713, Val Loss: 1.4921, Val Accuracy: 0.9691\n",
      "Epoch 9/10, Train Loss: 1.4883, Train Accuracy: 0.9728, Val Loss: 1.4921, Val Accuracy: 0.9693\n",
      "Epoch 10/10, Train Loss: 1.4884, Train Accuracy: 0.9728, Val Loss: 1.4908, Val Accuracy: 0.9700\n"
     ]
    },
    {
     "data": {
      "text/html": [],
      "text/plain": [
       "<IPython.core.display.HTML object>"
      ]
     },
     "metadata": {},
     "output_type": "display_data"
    },
    {
     "data": {
      "text/html": [
       "<br>    <style><br>        .wandb-row {<br>            display: flex;<br>            flex-direction: row;<br>            flex-wrap: wrap;<br>            justify-content: flex-start;<br>            width: 100%;<br>        }<br>        .wandb-col {<br>            display: flex;<br>            flex-direction: column;<br>            flex-basis: 100%;<br>            flex: 1;<br>            padding: 10px;<br>        }<br>    </style><br><div class=\"wandb-row\"><div class=\"wandb-col\"><h3>Run history:</h3><br/><table class=\"wandb\"><tr><td>epoch</td><td>▁▂▃▃▄▅▆▆▇█</td></tr><tr><td>train_accuracy</td><td>▁▆▇▇██████</td></tr><tr><td>train_loss</td><td>█▃▂▂▁▁▁▁▁▁</td></tr><tr><td>val_accuracy</td><td>▁▄▅▆▆▇▇███</td></tr><tr><td>val_loss</td><td>█▅▄▄▂▂▂▁▁▁</td></tr></table><br/></div><div class=\"wandb-col\"><h3>Run summary:</h3><br/><table class=\"wandb\"><tr><td>epoch</td><td>10</td></tr><tr><td>train_accuracy</td><td>0.97282</td></tr><tr><td>train_loss</td><td>1.48845</td></tr><tr><td>val_accuracy</td><td>0.97</td></tr><tr><td>val_loss</td><td>1.49078</td></tr></table><br/></div></div>"
      ],
      "text/plain": [
       "<IPython.core.display.HTML object>"
      ]
     },
     "metadata": {},
     "output_type": "display_data"
    },
    {
     "data": {
      "text/html": [
       " View run <strong style=\"color:#cdcd00\">still-puddle-2</strong> at: <a href='https://wandb.ai/igmure/mnist-classifier/runs/y74tqwhk' target=\"_blank\">https://wandb.ai/igmure/mnist-classifier/runs/y74tqwhk</a><br> View project at: <a href='https://wandb.ai/igmure/mnist-classifier' target=\"_blank\">https://wandb.ai/igmure/mnist-classifier</a><br>Synced 5 W&B file(s), 0 media file(s), 0 artifact file(s) and 0 other file(s)"
      ],
      "text/plain": [
       "<IPython.core.display.HTML object>"
      ]
     },
     "metadata": {},
     "output_type": "display_data"
    },
    {
     "data": {
      "text/html": [
       "Find logs at: <code>./wandb/run-20250128_143903-y74tqwhk/logs</code>"
      ],
      "text/plain": [
       "<IPython.core.display.HTML object>"
      ]
     },
     "metadata": {},
     "output_type": "display_data"
    }
   ],
   "source": [
    "# Training loop with wandb logging\n",
    "def train(model, train_loader, val_loader, epochs=10):\n",
    "    model.train()\n",
    "    for epoch in range(epochs):\n",
    "        train_loss = 0.0\n",
    "        train_correct = 0\n",
    "        total_train = 0\n",
    "        \n",
    "        for X_batch, y_batch in train_loader:\n",
    "            X_batch, y_batch = X_batch.to(device), y_batch.to(device)\n",
    "            optimizer.zero_grad()\n",
    "            y_pred = model(X_batch)\n",
    "            loss = criterion(y_pred, y_batch)\n",
    "            loss.backward()\n",
    "            optimizer.step()\n",
    "            \n",
    "            train_loss += loss.item()\n",
    "            _, predicted = torch.max(y_pred.data, 1)\n",
    "            _, labels = torch.max(y_batch.data, 1)\n",
    "            train_correct += (predicted == labels).sum().item()\n",
    "            total_train += labels.size(0)\n",
    "        \n",
    "        train_loss /= len(train_loader)\n",
    "        train_accuracy = train_correct / total_train\n",
    "        \n",
    "        model.eval()\n",
    "        val_loss = 0.0\n",
    "        val_correct = 0\n",
    "        total_val = 0\n",
    "        \n",
    "        with torch.no_grad():\n",
    "            for X_batch, y_batch in val_loader:\n",
    "                X_batch, y_batch = X_batch.to(device), y_batch.to(device)\n",
    "                y_pred = model(X_batch)\n",
    "                loss = criterion(y_pred, y_batch)\n",
    "                \n",
    "                val_loss += loss.item()\n",
    "                _, predicted = torch.max(y_pred.data, 1)\n",
    "                _, labels = torch.max(y_batch.data, 1)\n",
    "                val_correct += (predicted == labels).sum().item()\n",
    "                total_val += labels.size(0)\n",
    "        \n",
    "        val_loss /= len(val_loader)\n",
    "        val_accuracy = val_correct / total_val\n",
    "        \n",
    "        wandb.log({\n",
    "            'epoch': epoch + 1,\n",
    "            'train_loss': train_loss,\n",
    "            'train_accuracy': train_accuracy,\n",
    "            'val_loss': val_loss,\n",
    "            'val_accuracy': val_accuracy\n",
    "        })\n",
    "        \n",
    "        print(f'Epoch {epoch + 1}/{epochs}, Train Loss: {train_loss:.4f}, Train Accuracy: {train_accuracy:.4f}, Val Loss: {val_loss:.4f}, Val Accuracy: {val_accuracy:.4f}')\n",
    "        \n",
    "    wandb.finish()\n",
    "\n",
    "# Call the train function\n",
    "train(model, train_dataloader, test_dataloader, epochs=config['epochs'])"
   ]
  },
  {
   "cell_type": "markdown",
   "id": "a77990efcffab975",
   "metadata": {},
   "source": [
    "## Exercise 4: Easy hyperparameter tuning with wandb (2 points)\n",
    "\n",
    "Wandb allows you to perform hyperparameter tuning by automatically creating multiple runs with different hyperparameters and logging the performance of each run. Below is a brief instruction to `wandb` hyperparameter tuning, but you are more than welcome to find more information in the [official wandb guide](https://docs.wandb.ai/guides/sweeps/).\n",
    "\n",
    "Your task is to use wandb to perform hyperparameter tuning of the neural network, trying different values of the learning rate, batch size, and the size of the hidden layers. You can use the following hyperparameters:\n",
    "\n",
    "First, we need to define a dictionary with the hyperparameters that we want to tune. For example:\n",
    "\n",
    "```python\n",
    "parameters = {\n",
    "    'learning_rate': {'values': [0.01, 0.001, 0.0001]},\n",
    "    'batch_size': {'values': [32, 64, 128]},\n",
    "    'layer_1_size': {'values': [64, 128, 256]},\n",
    "    'layer_2_size': {'values': [32, 64, 128]}\n",
    "}\n",
    "```\n",
    "\n",
    "Then we need to create a dictionary with the configuration of the run:\n",
    "\n",
    "```python\n",
    "sweep_config = {\n",
    "    'name': 'mnist-sweep',\n",
    "    'method': 'grid',   # grid search, you can also try 'random' or 'bayes'\n",
    "    'metric': {'goal': 'minimize', 'name': 'val_loss'},\n",
    "    'parameters': parameters,   # that's the dictionary with the hyperparameters\n",
    "}\n",
    "```\n",
    "\n",
    "Finally, we can use the `wandb.sweep` function to perform hyperparameter tuning:\n",
    "\n",
    "```python\n",
    "sweep_id = wandb.sweep(sweep_config, project='mnist-classifier')\n",
    "```\n",
    "\n",
    "After that, we can finally run the sweep:\n",
    "\n",
    "```python\n",
    "wandb.agent(sweep_id, function=train)\n",
    "```\n",
    "where `train` is a function that trains the model and logs the metrics to wandb. This function should take a `config` argument, which will contain the hyperparameters of the run. That is how wandb knows which hyperparameters to tune.\n",
    "\n",
    "1. Rewrite the VAE training loop into a function that takes a single dictionary `parameters` as an argument, initializes the model, optimizer, and criterion, and trains the model for a fixed number of epochs. The function should log the loss and accuracy of the training and validation sets to wandb.\n",
    "2. Create a dictionary with the hyperparameters that you want to tune.\n",
    "3. Create a sweep configuration dictionary.\n",
    "4. Run the sweep and monitor the results in the wandb dashboard."
   ]
  },
  {
   "cell_type": "code",
   "execution_count": 31,
   "id": "924ebfa2",
   "metadata": {},
   "outputs": [],
   "source": [
    "def train():\n",
    "    # Initialize the model, loss function, and optimizer\n",
    "    wandb.init(project='mnist-classifier')\n",
    "    parameters = wandb.config\n",
    "    model = NeuralNetwork(\n",
    "        input_size=parameters.input_size,\n",
    "        hidden1_size=parameters.hidden1_size,\n",
    "        hidden2_size=parameters.hidden2_size,\n",
    "        hidden3_size=parameters.hidden3_size,\n",
    "        output_size=parameters.output_size,\n",
    "        dropout_prob=parameters.dropout_prob\n",
    "    ).to(device)\n",
    "\n",
    "    criterion = nn.CrossEntropyLoss()\n",
    "    optimizer = torch.optim.Adam(model.parameters(), lr=parameters.learning_rate)\n",
    "\n",
    "\n",
    "    # Training loop\n",
    "    model.train()\n",
    "    for epoch in range(parameters.epochs):\n",
    "        train_loss = 0.0\n",
    "        train_correct = 0\n",
    "        total_train = 0\n",
    "\n",
    "        for X_batch, y_batch in train_dataloader:\n",
    "            X_batch, y_batch = X_batch.to(device), y_batch.to(device)\n",
    "            optimizer.zero_grad()\n",
    "            y_pred = model(X_batch)\n",
    "            loss = criterion(y_pred, y_batch)\n",
    "            loss.backward()\n",
    "            optimizer.step()\n",
    "\n",
    "            train_loss += loss.item()\n",
    "            _, predicted = torch.max(y_pred.data, 1)\n",
    "            _, labels = torch.max(y_batch.data, 1)\n",
    "            train_correct += (predicted == labels).sum().item()\n",
    "            total_train += labels.size(0)\n",
    "\n",
    "        train_loss /= len(train_dataloader)\n",
    "        train_accuracy = train_correct / total_train\n",
    "\n",
    "        model.eval()\n",
    "        val_loss = 0.0\n",
    "        val_correct = 0\n",
    "        total_val = 0\n",
    "\n",
    "        with torch.no_grad():\n",
    "            for X_batch, y_batch in test_dataloader:\n",
    "                X_batch, y_batch = X_batch.to(device), y_batch.to(device)\n",
    "                y_pred = model(X_batch)\n",
    "                loss = criterion(y_pred, y_batch)\n",
    "\n",
    "                val_loss += loss.item()\n",
    "                _, predicted = torch.max(y_pred.data, 1)\n",
    "                _, labels = torch.max(y_batch.data, 1)\n",
    "                val_correct += (predicted == labels).sum().item()\n",
    "                total_val += labels.size(0)\n",
    "\n",
    "        val_loss /= len(test_dataloader)\n",
    "        val_accuracy = val_correct / total_val\n",
    "\n",
    "        wandb.log({\n",
    "            'epoch': epoch + 1,\n",
    "            'train_loss': train_loss,\n",
    "            'train_accuracy': train_accuracy,\n",
    "            'val_loss': val_loss,\n",
    "            'val_accuracy': val_accuracy\n",
    "        })\n",
    "\n",
    "        print(f'Epoch {epoch + 1}/{parameters[\"epochs\"]}, Train Loss: {train_loss:.4f}, Train Accuracy: {train_accuracy:.4f}, Val Loss: {val_loss:.4f}, Val Accuracy: {val_accuracy:.4f}')\n",
    "\n",
    "    wandb.finish()"
   ]
  },
  {
   "cell_type": "code",
   "execution_count": 32,
   "id": "b896fac35c516b81",
   "metadata": {},
   "outputs": [
    {
     "name": "stdout",
     "output_type": "stream",
     "text": [
      "Create sweep with ID: dqaqwep8\n",
      "Sweep URL: https://wandb.ai/igmure/mnist-classifier/sweeps/dqaqwep8\n"
     ]
    },
    {
     "name": "stderr",
     "output_type": "stream",
     "text": [
      "\u001b[34m\u001b[1mwandb\u001b[0m: Agent Starting Run: crqnsdxz with config:\n",
      "\u001b[34m\u001b[1mwandb\u001b[0m: \tbatch_size: 64\n",
      "\u001b[34m\u001b[1mwandb\u001b[0m: \tdropout_prob: 0.5\n",
      "\u001b[34m\u001b[1mwandb\u001b[0m: \tepochs: 5\n",
      "\u001b[34m\u001b[1mwandb\u001b[0m: \thidden1_size: 64\n",
      "\u001b[34m\u001b[1mwandb\u001b[0m: \thidden2_size: 64\n",
      "\u001b[34m\u001b[1mwandb\u001b[0m: \thidden3_size: 64\n",
      "\u001b[34m\u001b[1mwandb\u001b[0m: \tinput_size: 784\n",
      "\u001b[34m\u001b[1mwandb\u001b[0m: \tlearning_rate: 0.0001\n",
      "\u001b[34m\u001b[1mwandb\u001b[0m: \toutput_size: 10\n"
     ]
    },
    {
     "data": {
      "text/html": [
       "Ignoring project 'mnist-classifier' when running a sweep."
      ],
      "text/plain": [
       "<IPython.core.display.HTML object>"
      ]
     },
     "metadata": {},
     "output_type": "display_data"
    },
    {
     "data": {
      "text/html": [
       "Tracking run with wandb version 0.19.4"
      ],
      "text/plain": [
       "<IPython.core.display.HTML object>"
      ]
     },
     "metadata": {},
     "output_type": "display_data"
    },
    {
     "data": {
      "text/html": [
       "Run data is saved locally in <code>/home/ig/ActiveProjects/pum-24/wandb/run-20250128_151515-crqnsdxz</code>"
      ],
      "text/plain": [
       "<IPython.core.display.HTML object>"
      ]
     },
     "metadata": {},
     "output_type": "display_data"
    },
    {
     "data": {
      "text/html": [
       "Syncing run <strong><a href='https://wandb.ai/igmure/mnist-classifier/runs/crqnsdxz' target=\"_blank\">efficient-sweep-1</a></strong> to <a href='https://wandb.ai/igmure/mnist-classifier' target=\"_blank\">Weights & Biases</a> (<a href='https://wandb.me/developer-guide' target=\"_blank\">docs</a>)<br>Sweep page: <a href='https://wandb.ai/igmure/mnist-classifier/sweeps/dqaqwep8' target=\"_blank\">https://wandb.ai/igmure/mnist-classifier/sweeps/dqaqwep8</a>"
      ],
      "text/plain": [
       "<IPython.core.display.HTML object>"
      ]
     },
     "metadata": {},
     "output_type": "display_data"
    },
    {
     "data": {
      "text/html": [
       " View project at <a href='https://wandb.ai/igmure/mnist-classifier' target=\"_blank\">https://wandb.ai/igmure/mnist-classifier</a>"
      ],
      "text/plain": [
       "<IPython.core.display.HTML object>"
      ]
     },
     "metadata": {},
     "output_type": "display_data"
    },
    {
     "data": {
      "text/html": [
       " View sweep at <a href='https://wandb.ai/igmure/mnist-classifier/sweeps/dqaqwep8' target=\"_blank\">https://wandb.ai/igmure/mnist-classifier/sweeps/dqaqwep8</a>"
      ],
      "text/plain": [
       "<IPython.core.display.HTML object>"
      ]
     },
     "metadata": {},
     "output_type": "display_data"
    },
    {
     "data": {
      "text/html": [
       " View run at <a href='https://wandb.ai/igmure/mnist-classifier/runs/crqnsdxz' target=\"_blank\">https://wandb.ai/igmure/mnist-classifier/runs/crqnsdxz</a>"
      ],
      "text/plain": [
       "<IPython.core.display.HTML object>"
      ]
     },
     "metadata": {},
     "output_type": "display_data"
    },
    {
     "name": "stdout",
     "output_type": "stream",
     "text": [
      "Epoch 1/5, Train Loss: 2.1100, Train Accuracy: 0.3693, Val Loss: 1.8088, Val Accuracy: 0.6664\n",
      "Epoch 2/5, Train Loss: 1.7032, Train Accuracy: 0.7792, Val Loss: 1.6050, Val Accuracy: 0.8748\n",
      "Epoch 3/5, Train Loss: 1.5878, Train Accuracy: 0.8873, Val Loss: 1.5688, Val Accuracy: 0.9014\n",
      "Epoch 4/5, Train Loss: 1.5642, Train Accuracy: 0.9062, Val Loss: 1.5532, Val Accuracy: 0.9159\n",
      "Epoch 5/5, Train Loss: 1.5511, Train Accuracy: 0.9172, Val Loss: 1.5450, Val Accuracy: 0.9226\n"
     ]
    },
    {
     "data": {
      "text/html": [],
      "text/plain": [
       "<IPython.core.display.HTML object>"
      ]
     },
     "metadata": {},
     "output_type": "display_data"
    },
    {
     "data": {
      "text/html": [
       "<br>    <style><br>        .wandb-row {<br>            display: flex;<br>            flex-direction: row;<br>            flex-wrap: wrap;<br>            justify-content: flex-start;<br>            width: 100%;<br>        }<br>        .wandb-col {<br>            display: flex;<br>            flex-direction: column;<br>            flex-basis: 100%;<br>            flex: 1;<br>            padding: 10px;<br>        }<br>    </style><br><div class=\"wandb-row\"><div class=\"wandb-col\"><h3>Run history:</h3><br/><table class=\"wandb\"><tr><td>epoch</td><td>▁▃▅▆█</td></tr><tr><td>train_accuracy</td><td>▁▆███</td></tr><tr><td>train_loss</td><td>█▃▁▁▁</td></tr><tr><td>val_accuracy</td><td>▁▇▇██</td></tr><tr><td>val_loss</td><td>█▃▂▁▁</td></tr></table><br/></div><div class=\"wandb-col\"><h3>Run summary:</h3><br/><table class=\"wandb\"><tr><td>epoch</td><td>5</td></tr><tr><td>train_accuracy</td><td>0.91725</td></tr><tr><td>train_loss</td><td>1.55113</td></tr><tr><td>val_accuracy</td><td>0.92259</td></tr><tr><td>val_loss</td><td>1.54501</td></tr></table><br/></div></div>"
      ],
      "text/plain": [
       "<IPython.core.display.HTML object>"
      ]
     },
     "metadata": {},
     "output_type": "display_data"
    },
    {
     "data": {
      "text/html": [
       " View run <strong style=\"color:#cdcd00\">efficient-sweep-1</strong> at: <a href='https://wandb.ai/igmure/mnist-classifier/runs/crqnsdxz' target=\"_blank\">https://wandb.ai/igmure/mnist-classifier/runs/crqnsdxz</a><br> View project at: <a href='https://wandb.ai/igmure/mnist-classifier' target=\"_blank\">https://wandb.ai/igmure/mnist-classifier</a><br>Synced 5 W&B file(s), 0 media file(s), 0 artifact file(s) and 0 other file(s)"
      ],
      "text/plain": [
       "<IPython.core.display.HTML object>"
      ]
     },
     "metadata": {},
     "output_type": "display_data"
    },
    {
     "data": {
      "text/html": [
       "Find logs at: <code>./wandb/run-20250128_151515-crqnsdxz/logs</code>"
      ],
      "text/plain": [
       "<IPython.core.display.HTML object>"
      ]
     },
     "metadata": {},
     "output_type": "display_data"
    },
    {
     "name": "stderr",
     "output_type": "stream",
     "text": [
      "\u001b[34m\u001b[1mwandb\u001b[0m: Agent Starting Run: ehh5qkiy with config:\n",
      "\u001b[34m\u001b[1mwandb\u001b[0m: \tbatch_size: 32\n",
      "\u001b[34m\u001b[1mwandb\u001b[0m: \tdropout_prob: 0.5\n",
      "\u001b[34m\u001b[1mwandb\u001b[0m: \tepochs: 10\n",
      "\u001b[34m\u001b[1mwandb\u001b[0m: \thidden1_size: 128\n",
      "\u001b[34m\u001b[1mwandb\u001b[0m: \thidden2_size: 128\n",
      "\u001b[34m\u001b[1mwandb\u001b[0m: \thidden3_size: 32\n",
      "\u001b[34m\u001b[1mwandb\u001b[0m: \tinput_size: 784\n",
      "\u001b[34m\u001b[1mwandb\u001b[0m: \tlearning_rate: 0.0001\n",
      "\u001b[34m\u001b[1mwandb\u001b[0m: \toutput_size: 10\n"
     ]
    },
    {
     "data": {
      "text/html": [
       "Ignoring project 'mnist-classifier' when running a sweep."
      ],
      "text/plain": [
       "<IPython.core.display.HTML object>"
      ]
     },
     "metadata": {},
     "output_type": "display_data"
    },
    {
     "data": {
      "application/vnd.jupyter.widget-view+json": {
       "model_id": "b92405e6c36b4f2f96f05c8f2c4ea02e",
       "version_major": 2,
       "version_minor": 0
      },
      "text/plain": [
       "VBox(children=(Label(value='Waiting for wandb.init()...\\r'), FloatProgress(value=0.011113484444447548, max=1.0…"
      ]
     },
     "metadata": {},
     "output_type": "display_data"
    },
    {
     "data": {
      "text/html": [
       "Tracking run with wandb version 0.19.4"
      ],
      "text/plain": [
       "<IPython.core.display.HTML object>"
      ]
     },
     "metadata": {},
     "output_type": "display_data"
    },
    {
     "data": {
      "text/html": [
       "Run data is saved locally in <code>/home/ig/ActiveProjects/pum-24/wandb/run-20250128_151614-ehh5qkiy</code>"
      ],
      "text/plain": [
       "<IPython.core.display.HTML object>"
      ]
     },
     "metadata": {},
     "output_type": "display_data"
    },
    {
     "data": {
      "text/html": [
       "Syncing run <strong><a href='https://wandb.ai/igmure/mnist-classifier/runs/ehh5qkiy' target=\"_blank\">sage-sweep-2</a></strong> to <a href='https://wandb.ai/igmure/mnist-classifier' target=\"_blank\">Weights & Biases</a> (<a href='https://wandb.me/developer-guide' target=\"_blank\">docs</a>)<br>Sweep page: <a href='https://wandb.ai/igmure/mnist-classifier/sweeps/dqaqwep8' target=\"_blank\">https://wandb.ai/igmure/mnist-classifier/sweeps/dqaqwep8</a>"
      ],
      "text/plain": [
       "<IPython.core.display.HTML object>"
      ]
     },
     "metadata": {},
     "output_type": "display_data"
    },
    {
     "data": {
      "text/html": [
       " View project at <a href='https://wandb.ai/igmure/mnist-classifier' target=\"_blank\">https://wandb.ai/igmure/mnist-classifier</a>"
      ],
      "text/plain": [
       "<IPython.core.display.HTML object>"
      ]
     },
     "metadata": {},
     "output_type": "display_data"
    },
    {
     "data": {
      "text/html": [
       " View sweep at <a href='https://wandb.ai/igmure/mnist-classifier/sweeps/dqaqwep8' target=\"_blank\">https://wandb.ai/igmure/mnist-classifier/sweeps/dqaqwep8</a>"
      ],
      "text/plain": [
       "<IPython.core.display.HTML object>"
      ]
     },
     "metadata": {},
     "output_type": "display_data"
    },
    {
     "data": {
      "text/html": [
       " View run at <a href='https://wandb.ai/igmure/mnist-classifier/runs/ehh5qkiy' target=\"_blank\">https://wandb.ai/igmure/mnist-classifier/runs/ehh5qkiy</a>"
      ],
      "text/plain": [
       "<IPython.core.display.HTML object>"
      ]
     },
     "metadata": {},
     "output_type": "display_data"
    },
    {
     "name": "stdout",
     "output_type": "stream",
     "text": [
      "Epoch 1/10, Train Loss: 2.0585, Train Accuracy: 0.4260, Val Loss: 1.7575, Val Accuracy: 0.7219\n",
      "Epoch 2/10, Train Loss: 1.6317, Train Accuracy: 0.8515, Val Loss: 1.5805, Val Accuracy: 0.8921\n",
      "Epoch 3/10, Train Loss: 1.5680, Train Accuracy: 0.9032, Val Loss: 1.5573, Val Accuracy: 0.9101\n",
      "Epoch 4/10, Train Loss: 1.5464, Train Accuracy: 0.9218, Val Loss: 1.5388, Val Accuracy: 0.9265\n",
      "Epoch 5/10, Train Loss: 1.5334, Train Accuracy: 0.9335, Val Loss: 1.5300, Val Accuracy: 0.9352\n",
      "Epoch 6/10, Train Loss: 1.5240, Train Accuracy: 0.9417, Val Loss: 1.5228, Val Accuracy: 0.9423\n",
      "Epoch 7/10, Train Loss: 1.5172, Train Accuracy: 0.9483, Val Loss: 1.5175, Val Accuracy: 0.9473\n",
      "Epoch 8/10, Train Loss: 1.5118, Train Accuracy: 0.9535, Val Loss: 1.5134, Val Accuracy: 0.9498\n",
      "Epoch 9/10, Train Loss: 1.5075, Train Accuracy: 0.9571, Val Loss: 1.5114, Val Accuracy: 0.9515\n",
      "Epoch 10/10, Train Loss: 1.5044, Train Accuracy: 0.9598, Val Loss: 1.5100, Val Accuracy: 0.9526\n"
     ]
    },
    {
     "data": {
      "text/html": [],
      "text/plain": [
       "<IPython.core.display.HTML object>"
      ]
     },
     "metadata": {},
     "output_type": "display_data"
    },
    {
     "data": {
      "text/html": [
       "<br>    <style><br>        .wandb-row {<br>            display: flex;<br>            flex-direction: row;<br>            flex-wrap: wrap;<br>            justify-content: flex-start;<br>            width: 100%;<br>        }<br>        .wandb-col {<br>            display: flex;<br>            flex-direction: column;<br>            flex-basis: 100%;<br>            flex: 1;<br>            padding: 10px;<br>        }<br>    </style><br><div class=\"wandb-row\"><div class=\"wandb-col\"><h3>Run history:</h3><br/><table class=\"wandb\"><tr><td>epoch</td><td>▁▂▃▃▄▅▆▆▇█</td></tr><tr><td>train_accuracy</td><td>▁▇▇███████</td></tr><tr><td>train_loss</td><td>█▃▂▂▁▁▁▁▁▁</td></tr><tr><td>val_accuracy</td><td>▁▆▇▇▇█████</td></tr><tr><td>val_loss</td><td>█▃▂▂▂▁▁▁▁▁</td></tr></table><br/></div><div class=\"wandb-col\"><h3>Run summary:</h3><br/><table class=\"wandb\"><tr><td>epoch</td><td>10</td></tr><tr><td>train_accuracy</td><td>0.9598</td></tr><tr><td>train_loss</td><td>1.50441</td></tr><tr><td>val_accuracy</td><td>0.9526</td></tr><tr><td>val_loss</td><td>1.51003</td></tr></table><br/></div></div>"
      ],
      "text/plain": [
       "<IPython.core.display.HTML object>"
      ]
     },
     "metadata": {},
     "output_type": "display_data"
    },
    {
     "data": {
      "text/html": [
       " View run <strong style=\"color:#cdcd00\">sage-sweep-2</strong> at: <a href='https://wandb.ai/igmure/mnist-classifier/runs/ehh5qkiy' target=\"_blank\">https://wandb.ai/igmure/mnist-classifier/runs/ehh5qkiy</a><br> View project at: <a href='https://wandb.ai/igmure/mnist-classifier' target=\"_blank\">https://wandb.ai/igmure/mnist-classifier</a><br>Synced 5 W&B file(s), 0 media file(s), 0 artifact file(s) and 0 other file(s)"
      ],
      "text/plain": [
       "<IPython.core.display.HTML object>"
      ]
     },
     "metadata": {},
     "output_type": "display_data"
    },
    {
     "data": {
      "text/html": [
       "Find logs at: <code>./wandb/run-20250128_151614-ehh5qkiy/logs</code>"
      ],
      "text/plain": [
       "<IPython.core.display.HTML object>"
      ]
     },
     "metadata": {},
     "output_type": "display_data"
    },
    {
     "name": "stderr",
     "output_type": "stream",
     "text": [
      "\u001b[34m\u001b[1mwandb\u001b[0m: Agent Starting Run: x7wx2lz1 with config:\n",
      "\u001b[34m\u001b[1mwandb\u001b[0m: \tbatch_size: 16\n",
      "\u001b[34m\u001b[1mwandb\u001b[0m: \tdropout_prob: 0.25\n",
      "\u001b[34m\u001b[1mwandb\u001b[0m: \tepochs: 15\n",
      "\u001b[34m\u001b[1mwandb\u001b[0m: \thidden1_size: 128\n",
      "\u001b[34m\u001b[1mwandb\u001b[0m: \thidden2_size: 32\n",
      "\u001b[34m\u001b[1mwandb\u001b[0m: \thidden3_size: 16\n",
      "\u001b[34m\u001b[1mwandb\u001b[0m: \tinput_size: 784\n",
      "\u001b[34m\u001b[1mwandb\u001b[0m: \tlearning_rate: 0.0001\n",
      "\u001b[34m\u001b[1mwandb\u001b[0m: \toutput_size: 10\n"
     ]
    },
    {
     "data": {
      "text/html": [
       "Ignoring project 'mnist-classifier' when running a sweep."
      ],
      "text/plain": [
       "<IPython.core.display.HTML object>"
      ]
     },
     "metadata": {},
     "output_type": "display_data"
    },
    {
     "data": {
      "text/html": [
       "Tracking run with wandb version 0.19.4"
      ],
      "text/plain": [
       "<IPython.core.display.HTML object>"
      ]
     },
     "metadata": {},
     "output_type": "display_data"
    },
    {
     "data": {
      "text/html": [
       "Run data is saved locally in <code>/home/ig/ActiveProjects/pum-24/wandb/run-20250128_151748-x7wx2lz1</code>"
      ],
      "text/plain": [
       "<IPython.core.display.HTML object>"
      ]
     },
     "metadata": {},
     "output_type": "display_data"
    },
    {
     "data": {
      "text/html": [
       "Syncing run <strong><a href='https://wandb.ai/igmure/mnist-classifier/runs/x7wx2lz1' target=\"_blank\">woven-sweep-3</a></strong> to <a href='https://wandb.ai/igmure/mnist-classifier' target=\"_blank\">Weights & Biases</a> (<a href='https://wandb.me/developer-guide' target=\"_blank\">docs</a>)<br>Sweep page: <a href='https://wandb.ai/igmure/mnist-classifier/sweeps/dqaqwep8' target=\"_blank\">https://wandb.ai/igmure/mnist-classifier/sweeps/dqaqwep8</a>"
      ],
      "text/plain": [
       "<IPython.core.display.HTML object>"
      ]
     },
     "metadata": {},
     "output_type": "display_data"
    },
    {
     "data": {
      "text/html": [
       " View project at <a href='https://wandb.ai/igmure/mnist-classifier' target=\"_blank\">https://wandb.ai/igmure/mnist-classifier</a>"
      ],
      "text/plain": [
       "<IPython.core.display.HTML object>"
      ]
     },
     "metadata": {},
     "output_type": "display_data"
    },
    {
     "data": {
      "text/html": [
       " View sweep at <a href='https://wandb.ai/igmure/mnist-classifier/sweeps/dqaqwep8' target=\"_blank\">https://wandb.ai/igmure/mnist-classifier/sweeps/dqaqwep8</a>"
      ],
      "text/plain": [
       "<IPython.core.display.HTML object>"
      ]
     },
     "metadata": {},
     "output_type": "display_data"
    },
    {
     "data": {
      "text/html": [
       " View run at <a href='https://wandb.ai/igmure/mnist-classifier/runs/x7wx2lz1' target=\"_blank\">https://wandb.ai/igmure/mnist-classifier/runs/x7wx2lz1</a>"
      ],
      "text/plain": [
       "<IPython.core.display.HTML object>"
      ]
     },
     "metadata": {},
     "output_type": "display_data"
    },
    {
     "name": "stdout",
     "output_type": "stream",
     "text": [
      "Epoch 1/15, Train Loss: 2.0594, Train Accuracy: 0.4250, Val Loss: 1.8072, Val Accuracy: 0.6972\n",
      "Epoch 2/15, Train Loss: 1.7121, Train Accuracy: 0.7741, Val Loss: 1.6249, Val Accuracy: 0.8549\n",
      "Epoch 3/15, Train Loss: 1.6087, Train Accuracy: 0.8678, Val Loss: 1.5890, Val Accuracy: 0.8854\n",
      "Epoch 4/15, Train Loss: 1.5819, Train Accuracy: 0.8901, Val Loss: 1.5716, Val Accuracy: 0.8988\n",
      "Epoch 5/15, Train Loss: 1.5663, Train Accuracy: 0.9041, Val Loss: 1.5574, Val Accuracy: 0.9118\n",
      "Epoch 6/15, Train Loss: 1.5551, Train Accuracy: 0.9138, Val Loss: 1.5496, Val Accuracy: 0.9183\n",
      "Epoch 7/15, Train Loss: 1.5467, Train Accuracy: 0.9217, Val Loss: 1.5435, Val Accuracy: 0.9238\n",
      "Epoch 8/15, Train Loss: 1.5401, Train Accuracy: 0.9278, Val Loss: 1.5377, Val Accuracy: 0.9292\n",
      "Epoch 9/15, Train Loss: 1.5347, Train Accuracy: 0.9321, Val Loss: 1.5335, Val Accuracy: 0.9323\n",
      "Epoch 10/15, Train Loss: 1.5299, Train Accuracy: 0.9369, Val Loss: 1.5302, Val Accuracy: 0.9351\n",
      "Epoch 11/15, Train Loss: 1.5259, Train Accuracy: 0.9405, Val Loss: 1.5274, Val Accuracy: 0.9392\n",
      "Epoch 12/15, Train Loss: 1.5223, Train Accuracy: 0.9436, Val Loss: 1.5241, Val Accuracy: 0.9414\n",
      "Epoch 13/15, Train Loss: 1.5191, Train Accuracy: 0.9469, Val Loss: 1.5220, Val Accuracy: 0.9424\n",
      "Epoch 14/15, Train Loss: 1.5164, Train Accuracy: 0.9490, Val Loss: 1.5195, Val Accuracy: 0.9463\n",
      "Epoch 15/15, Train Loss: 1.5136, Train Accuracy: 0.9518, Val Loss: 1.5170, Val Accuracy: 0.9478\n"
     ]
    },
    {
     "data": {
      "text/html": [],
      "text/plain": [
       "<IPython.core.display.HTML object>"
      ]
     },
     "metadata": {},
     "output_type": "display_data"
    },
    {
     "data": {
      "text/html": [
       "<br>    <style><br>        .wandb-row {<br>            display: flex;<br>            flex-direction: row;<br>            flex-wrap: wrap;<br>            justify-content: flex-start;<br>            width: 100%;<br>        }<br>        .wandb-col {<br>            display: flex;<br>            flex-direction: column;<br>            flex-basis: 100%;<br>            flex: 1;<br>            padding: 10px;<br>        }<br>    </style><br><div class=\"wandb-row\"><div class=\"wandb-col\"><h3>Run history:</h3><br/><table class=\"wandb\"><tr><td>epoch</td><td>▁▁▂▃▃▃▄▅▅▅▆▇▇▇█</td></tr><tr><td>train_accuracy</td><td>▁▆▇▇▇▇█████████</td></tr><tr><td>train_loss</td><td>█▄▂▂▂▂▁▁▁▁▁▁▁▁▁</td></tr><tr><td>val_accuracy</td><td>▁▅▆▇▇▇▇▇███████</td></tr><tr><td>val_loss</td><td>█▄▃▂▂▂▂▁▁▁▁▁▁▁▁</td></tr></table><br/></div><div class=\"wandb-col\"><h3>Run summary:</h3><br/><table class=\"wandb\"><tr><td>epoch</td><td>15</td></tr><tr><td>train_accuracy</td><td>0.9518</td></tr><tr><td>train_loss</td><td>1.51365</td></tr><tr><td>val_accuracy</td><td>0.94779</td></tr><tr><td>val_loss</td><td>1.517</td></tr></table><br/></div></div>"
      ],
      "text/plain": [
       "<IPython.core.display.HTML object>"
      ]
     },
     "metadata": {},
     "output_type": "display_data"
    },
    {
     "data": {
      "text/html": [
       " View run <strong style=\"color:#cdcd00\">woven-sweep-3</strong> at: <a href='https://wandb.ai/igmure/mnist-classifier/runs/x7wx2lz1' target=\"_blank\">https://wandb.ai/igmure/mnist-classifier/runs/x7wx2lz1</a><br> View project at: <a href='https://wandb.ai/igmure/mnist-classifier' target=\"_blank\">https://wandb.ai/igmure/mnist-classifier</a><br>Synced 5 W&B file(s), 0 media file(s), 0 artifact file(s) and 0 other file(s)"
      ],
      "text/plain": [
       "<IPython.core.display.HTML object>"
      ]
     },
     "metadata": {},
     "output_type": "display_data"
    },
    {
     "data": {
      "text/html": [
       "Find logs at: <code>./wandb/run-20250128_151748-x7wx2lz1/logs</code>"
      ],
      "text/plain": [
       "<IPython.core.display.HTML object>"
      ]
     },
     "metadata": {},
     "output_type": "display_data"
    },
    {
     "name": "stderr",
     "output_type": "stream",
     "text": [
      "\u001b[34m\u001b[1mwandb\u001b[0m: Agent Starting Run: 3z58018w with config:\n",
      "\u001b[34m\u001b[1mwandb\u001b[0m: \tbatch_size: 32\n",
      "\u001b[34m\u001b[1mwandb\u001b[0m: \tdropout_prob: 0.5\n",
      "\u001b[34m\u001b[1mwandb\u001b[0m: \tepochs: 15\n",
      "\u001b[34m\u001b[1mwandb\u001b[0m: \thidden1_size: 128\n",
      "\u001b[34m\u001b[1mwandb\u001b[0m: \thidden2_size: 32\n",
      "\u001b[34m\u001b[1mwandb\u001b[0m: \thidden3_size: 16\n",
      "\u001b[34m\u001b[1mwandb\u001b[0m: \tinput_size: 784\n",
      "\u001b[34m\u001b[1mwandb\u001b[0m: \tlearning_rate: 0.0001\n",
      "\u001b[34m\u001b[1mwandb\u001b[0m: \toutput_size: 10\n"
     ]
    },
    {
     "data": {
      "text/html": [
       "Ignoring project 'mnist-classifier' when running a sweep."
      ],
      "text/plain": [
       "<IPython.core.display.HTML object>"
      ]
     },
     "metadata": {},
     "output_type": "display_data"
    },
    {
     "data": {
      "text/html": [
       "Tracking run with wandb version 0.19.4"
      ],
      "text/plain": [
       "<IPython.core.display.HTML object>"
      ]
     },
     "metadata": {},
     "output_type": "display_data"
    },
    {
     "data": {
      "text/html": [
       "Run data is saved locally in <code>/home/ig/ActiveProjects/pum-24/wandb/run-20250128_152032-3z58018w</code>"
      ],
      "text/plain": [
       "<IPython.core.display.HTML object>"
      ]
     },
     "metadata": {},
     "output_type": "display_data"
    },
    {
     "data": {
      "text/html": [
       "Syncing run <strong><a href='https://wandb.ai/igmure/mnist-classifier/runs/3z58018w' target=\"_blank\">ethereal-sweep-4</a></strong> to <a href='https://wandb.ai/igmure/mnist-classifier' target=\"_blank\">Weights & Biases</a> (<a href='https://wandb.me/developer-guide' target=\"_blank\">docs</a>)<br>Sweep page: <a href='https://wandb.ai/igmure/mnist-classifier/sweeps/dqaqwep8' target=\"_blank\">https://wandb.ai/igmure/mnist-classifier/sweeps/dqaqwep8</a>"
      ],
      "text/plain": [
       "<IPython.core.display.HTML object>"
      ]
     },
     "metadata": {},
     "output_type": "display_data"
    },
    {
     "data": {
      "text/html": [
       " View project at <a href='https://wandb.ai/igmure/mnist-classifier' target=\"_blank\">https://wandb.ai/igmure/mnist-classifier</a>"
      ],
      "text/plain": [
       "<IPython.core.display.HTML object>"
      ]
     },
     "metadata": {},
     "output_type": "display_data"
    },
    {
     "data": {
      "text/html": [
       " View sweep at <a href='https://wandb.ai/igmure/mnist-classifier/sweeps/dqaqwep8' target=\"_blank\">https://wandb.ai/igmure/mnist-classifier/sweeps/dqaqwep8</a>"
      ],
      "text/plain": [
       "<IPython.core.display.HTML object>"
      ]
     },
     "metadata": {},
     "output_type": "display_data"
    },
    {
     "data": {
      "text/html": [
       " View run at <a href='https://wandb.ai/igmure/mnist-classifier/runs/3z58018w' target=\"_blank\">https://wandb.ai/igmure/mnist-classifier/runs/3z58018w</a>"
      ],
      "text/plain": [
       "<IPython.core.display.HTML object>"
      ]
     },
     "metadata": {},
     "output_type": "display_data"
    },
    {
     "name": "stdout",
     "output_type": "stream",
     "text": [
      "Epoch 1/15, Train Loss: 2.2074, Train Accuracy: 0.2340, Val Loss: 1.9864, Val Accuracy: 0.5562\n",
      "Epoch 2/15, Train Loss: 1.8061, Train Accuracy: 0.6798, Val Loss: 1.6780, Val Accuracy: 0.8126\n",
      "Epoch 3/15, Train Loss: 1.6531, Train Accuracy: 0.8256, Val Loss: 1.6320, Val Accuracy: 0.8384\n",
      "Epoch 4/15, Train Loss: 1.6295, Train Accuracy: 0.8398, Val Loss: 1.6189, Val Accuracy: 0.8488\n",
      "Epoch 5/15, Train Loss: 1.6193, Train Accuracy: 0.8476, Val Loss: 1.6131, Val Accuracy: 0.8523\n",
      "Epoch 6/15, Train Loss: 1.6126, Train Accuracy: 0.8534, Val Loss: 1.6081, Val Accuracy: 0.8560\n",
      "Epoch 7/15, Train Loss: 1.5839, Train Accuracy: 0.8853, Val Loss: 1.5548, Val Accuracy: 0.9178\n",
      "Epoch 8/15, Train Loss: 1.5477, Train Accuracy: 0.9236, Val Loss: 1.5415, Val Accuracy: 0.9276\n",
      "Epoch 9/15, Train Loss: 1.5367, Train Accuracy: 0.9326, Val Loss: 1.5335, Val Accuracy: 0.9334\n",
      "Epoch 10/15, Train Loss: 1.5290, Train Accuracy: 0.9386, Val Loss: 1.5316, Val Accuracy: 0.9342\n",
      "Epoch 11/15, Train Loss: 1.5238, Train Accuracy: 0.9434, Val Loss: 1.5233, Val Accuracy: 0.9427\n",
      "Epoch 12/15, Train Loss: 1.5193, Train Accuracy: 0.9473, Val Loss: 1.5205, Val Accuracy: 0.9436\n",
      "Epoch 13/15, Train Loss: 1.5154, Train Accuracy: 0.9513, Val Loss: 1.5176, Val Accuracy: 0.9475\n",
      "Epoch 14/15, Train Loss: 1.5123, Train Accuracy: 0.9536, Val Loss: 1.5164, Val Accuracy: 0.9476\n",
      "Epoch 15/15, Train Loss: 1.5095, Train Accuracy: 0.9560, Val Loss: 1.5133, Val Accuracy: 0.9506\n"
     ]
    },
    {
     "data": {
      "text/html": [],
      "text/plain": [
       "<IPython.core.display.HTML object>"
      ]
     },
     "metadata": {},
     "output_type": "display_data"
    },
    {
     "data": {
      "text/html": [
       "<br>    <style><br>        .wandb-row {<br>            display: flex;<br>            flex-direction: row;<br>            flex-wrap: wrap;<br>            justify-content: flex-start;<br>            width: 100%;<br>        }<br>        .wandb-col {<br>            display: flex;<br>            flex-direction: column;<br>            flex-basis: 100%;<br>            flex: 1;<br>            padding: 10px;<br>        }<br>    </style><br><div class=\"wandb-row\"><div class=\"wandb-col\"><h3>Run history:</h3><br/><table class=\"wandb\"><tr><td>epoch</td><td>▁▁▂▃▃▃▄▅▅▅▆▇▇▇█</td></tr><tr><td>train_accuracy</td><td>▁▅▇▇▇▇▇████████</td></tr><tr><td>train_loss</td><td>█▄▂▂▂▂▂▁▁▁▁▁▁▁▁</td></tr><tr><td>val_accuracy</td><td>▁▆▆▆▆▆▇████████</td></tr><tr><td>val_loss</td><td>█▃▃▃▂▂▂▁▁▁▁▁▁▁▁</td></tr></table><br/></div><div class=\"wandb-col\"><h3>Run summary:</h3><br/><table class=\"wandb\"><tr><td>epoch</td><td>15</td></tr><tr><td>train_accuracy</td><td>0.95598</td></tr><tr><td>train_loss</td><td>1.50949</td></tr><tr><td>val_accuracy</td><td>0.9506</td></tr><tr><td>val_loss</td><td>1.51334</td></tr></table><br/></div></div>"
      ],
      "text/plain": [
       "<IPython.core.display.HTML object>"
      ]
     },
     "metadata": {},
     "output_type": "display_data"
    },
    {
     "data": {
      "text/html": [
       " View run <strong style=\"color:#cdcd00\">ethereal-sweep-4</strong> at: <a href='https://wandb.ai/igmure/mnist-classifier/runs/3z58018w' target=\"_blank\">https://wandb.ai/igmure/mnist-classifier/runs/3z58018w</a><br> View project at: <a href='https://wandb.ai/igmure/mnist-classifier' target=\"_blank\">https://wandb.ai/igmure/mnist-classifier</a><br>Synced 5 W&B file(s), 0 media file(s), 0 artifact file(s) and 0 other file(s)"
      ],
      "text/plain": [
       "<IPython.core.display.HTML object>"
      ]
     },
     "metadata": {},
     "output_type": "display_data"
    },
    {
     "data": {
      "text/html": [
       "Find logs at: <code>./wandb/run-20250128_152032-3z58018w/logs</code>"
      ],
      "text/plain": [
       "<IPython.core.display.HTML object>"
      ]
     },
     "metadata": {},
     "output_type": "display_data"
    },
    {
     "name": "stderr",
     "output_type": "stream",
     "text": [
      "\u001b[34m\u001b[1mwandb\u001b[0m: Agent Starting Run: wwt2kupw with config:\n",
      "\u001b[34m\u001b[1mwandb\u001b[0m: \tbatch_size: 32\n",
      "\u001b[34m\u001b[1mwandb\u001b[0m: \tdropout_prob: 0.25\n",
      "\u001b[34m\u001b[1mwandb\u001b[0m: \tepochs: 15\n",
      "\u001b[34m\u001b[1mwandb\u001b[0m: \thidden1_size: 256\n",
      "\u001b[34m\u001b[1mwandb\u001b[0m: \thidden2_size: 32\n",
      "\u001b[34m\u001b[1mwandb\u001b[0m: \thidden3_size: 16\n",
      "\u001b[34m\u001b[1mwandb\u001b[0m: \tinput_size: 784\n",
      "\u001b[34m\u001b[1mwandb\u001b[0m: \tlearning_rate: 0.0001\n",
      "\u001b[34m\u001b[1mwandb\u001b[0m: \toutput_size: 10\n"
     ]
    },
    {
     "data": {
      "text/html": [
       "Ignoring project 'mnist-classifier' when running a sweep."
      ],
      "text/plain": [
       "<IPython.core.display.HTML object>"
      ]
     },
     "metadata": {},
     "output_type": "display_data"
    },
    {
     "data": {
      "text/html": [
       "Tracking run with wandb version 0.19.4"
      ],
      "text/plain": [
       "<IPython.core.display.HTML object>"
      ]
     },
     "metadata": {},
     "output_type": "display_data"
    },
    {
     "data": {
      "text/html": [
       "Run data is saved locally in <code>/home/ig/ActiveProjects/pum-24/wandb/run-20250128_152305-wwt2kupw</code>"
      ],
      "text/plain": [
       "<IPython.core.display.HTML object>"
      ]
     },
     "metadata": {},
     "output_type": "display_data"
    },
    {
     "data": {
      "text/html": [
       "Syncing run <strong><a href='https://wandb.ai/igmure/mnist-classifier/runs/wwt2kupw' target=\"_blank\">helpful-sweep-5</a></strong> to <a href='https://wandb.ai/igmure/mnist-classifier' target=\"_blank\">Weights & Biases</a> (<a href='https://wandb.me/developer-guide' target=\"_blank\">docs</a>)<br>Sweep page: <a href='https://wandb.ai/igmure/mnist-classifier/sweeps/dqaqwep8' target=\"_blank\">https://wandb.ai/igmure/mnist-classifier/sweeps/dqaqwep8</a>"
      ],
      "text/plain": [
       "<IPython.core.display.HTML object>"
      ]
     },
     "metadata": {},
     "output_type": "display_data"
    },
    {
     "data": {
      "text/html": [
       " View project at <a href='https://wandb.ai/igmure/mnist-classifier' target=\"_blank\">https://wandb.ai/igmure/mnist-classifier</a>"
      ],
      "text/plain": [
       "<IPython.core.display.HTML object>"
      ]
     },
     "metadata": {},
     "output_type": "display_data"
    },
    {
     "data": {
      "text/html": [
       " View sweep at <a href='https://wandb.ai/igmure/mnist-classifier/sweeps/dqaqwep8' target=\"_blank\">https://wandb.ai/igmure/mnist-classifier/sweeps/dqaqwep8</a>"
      ],
      "text/plain": [
       "<IPython.core.display.HTML object>"
      ]
     },
     "metadata": {},
     "output_type": "display_data"
    },
    {
     "data": {
      "text/html": [
       " View run at <a href='https://wandb.ai/igmure/mnist-classifier/runs/wwt2kupw' target=\"_blank\">https://wandb.ai/igmure/mnist-classifier/runs/wwt2kupw</a>"
      ],
      "text/plain": [
       "<IPython.core.display.HTML object>"
      ]
     },
     "metadata": {},
     "output_type": "display_data"
    },
    {
     "name": "stdout",
     "output_type": "stream",
     "text": [
      "Epoch 1/15, Train Loss: 2.0087, Train Accuracy: 0.4908, Val Loss: 1.7135, Val Accuracy: 0.7791\n",
      "Epoch 2/15, Train Loss: 1.6727, Train Accuracy: 0.8041, Val Loss: 1.6481, Val Accuracy: 0.8208\n",
      "Epoch 3/15, Train Loss: 1.6014, Train Accuracy: 0.8735, Val Loss: 1.5698, Val Accuracy: 0.9006\n",
      "Epoch 4/15, Train Loss: 1.5615, Train Accuracy: 0.9088, Val Loss: 1.5520, Val Accuracy: 0.9167\n",
      "Epoch 5/15, Train Loss: 1.5474, Train Accuracy: 0.9211, Val Loss: 1.5419, Val Accuracy: 0.9252\n",
      "Epoch 6/15, Train Loss: 1.5382, Train Accuracy: 0.9290, Val Loss: 1.5355, Val Accuracy: 0.9314\n",
      "Epoch 7/15, Train Loss: 1.5312, Train Accuracy: 0.9354, Val Loss: 1.5298, Val Accuracy: 0.9354\n",
      "Epoch 8/15, Train Loss: 1.5253, Train Accuracy: 0.9418, Val Loss: 1.5244, Val Accuracy: 0.9403\n",
      "Epoch 9/15, Train Loss: 1.5204, Train Accuracy: 0.9464, Val Loss: 1.5215, Val Accuracy: 0.9430\n",
      "Epoch 10/15, Train Loss: 1.5163, Train Accuracy: 0.9495, Val Loss: 1.5185, Val Accuracy: 0.9461\n",
      "Epoch 11/15, Train Loss: 1.5128, Train Accuracy: 0.9529, Val Loss: 1.5143, Val Accuracy: 0.9502\n",
      "Epoch 12/15, Train Loss: 1.5097, Train Accuracy: 0.9554, Val Loss: 1.5119, Val Accuracy: 0.9516\n",
      "Epoch 13/15, Train Loss: 1.5069, Train Accuracy: 0.9583, Val Loss: 1.5103, Val Accuracy: 0.9536\n",
      "Epoch 14/15, Train Loss: 1.5045, Train Accuracy: 0.9605, Val Loss: 1.5079, Val Accuracy: 0.9569\n",
      "Epoch 15/15, Train Loss: 1.5022, Train Accuracy: 0.9627, Val Loss: 1.5079, Val Accuracy: 0.9559\n"
     ]
    },
    {
     "data": {
      "text/html": [],
      "text/plain": [
       "<IPython.core.display.HTML object>"
      ]
     },
     "metadata": {},
     "output_type": "display_data"
    },
    {
     "data": {
      "text/html": [
       "<br>    <style><br>        .wandb-row {<br>            display: flex;<br>            flex-direction: row;<br>            flex-wrap: wrap;<br>            justify-content: flex-start;<br>            width: 100%;<br>        }<br>        .wandb-col {<br>            display: flex;<br>            flex-direction: column;<br>            flex-basis: 100%;<br>            flex: 1;<br>            padding: 10px;<br>        }<br>    </style><br><div class=\"wandb-row\"><div class=\"wandb-col\"><h3>Run history:</h3><br/><table class=\"wandb\"><tr><td>epoch</td><td>▁▁▂▃▃▃▄▅▅▅▆▇▇▇█</td></tr><tr><td>train_accuracy</td><td>▁▆▇▇▇██████████</td></tr><tr><td>train_loss</td><td>█▃▂▂▂▁▁▁▁▁▁▁▁▁▁</td></tr><tr><td>val_accuracy</td><td>▁▃▆▆▇▇▇▇▇██████</td></tr><tr><td>val_loss</td><td>█▆▃▃▂▂▂▂▁▁▁▁▁▁▁</td></tr></table><br/></div><div class=\"wandb-col\"><h3>Run summary:</h3><br/><table class=\"wandb\"><tr><td>epoch</td><td>15</td></tr><tr><td>train_accuracy</td><td>0.96267</td></tr><tr><td>train_loss</td><td>1.50219</td></tr><tr><td>val_accuracy</td><td>0.9559</td></tr><tr><td>val_loss</td><td>1.50793</td></tr></table><br/></div></div>"
      ],
      "text/plain": [
       "<IPython.core.display.HTML object>"
      ]
     },
     "metadata": {},
     "output_type": "display_data"
    },
    {
     "data": {
      "text/html": [
       " View run <strong style=\"color:#cdcd00\">helpful-sweep-5</strong> at: <a href='https://wandb.ai/igmure/mnist-classifier/runs/wwt2kupw' target=\"_blank\">https://wandb.ai/igmure/mnist-classifier/runs/wwt2kupw</a><br> View project at: <a href='https://wandb.ai/igmure/mnist-classifier' target=\"_blank\">https://wandb.ai/igmure/mnist-classifier</a><br>Synced 5 W&B file(s), 0 media file(s), 0 artifact file(s) and 0 other file(s)"
      ],
      "text/plain": [
       "<IPython.core.display.HTML object>"
      ]
     },
     "metadata": {},
     "output_type": "display_data"
    },
    {
     "data": {
      "text/html": [
       "Find logs at: <code>./wandb/run-20250128_152305-wwt2kupw/logs</code>"
      ],
      "text/plain": [
       "<IPython.core.display.HTML object>"
      ]
     },
     "metadata": {},
     "output_type": "display_data"
    },
    {
     "name": "stderr",
     "output_type": "stream",
     "text": [
      "\u001b[34m\u001b[1mwandb\u001b[0m: Agent Starting Run: 2rh6ay84 with config:\n",
      "\u001b[34m\u001b[1mwandb\u001b[0m: \tbatch_size: 32\n",
      "\u001b[34m\u001b[1mwandb\u001b[0m: \tdropout_prob: 0.5\n",
      "\u001b[34m\u001b[1mwandb\u001b[0m: \tepochs: 10\n",
      "\u001b[34m\u001b[1mwandb\u001b[0m: \thidden1_size: 256\n",
      "\u001b[34m\u001b[1mwandb\u001b[0m: \thidden2_size: 128\n",
      "\u001b[34m\u001b[1mwandb\u001b[0m: \thidden3_size: 16\n",
      "\u001b[34m\u001b[1mwandb\u001b[0m: \tinput_size: 784\n",
      "\u001b[34m\u001b[1mwandb\u001b[0m: \tlearning_rate: 0.0001\n",
      "\u001b[34m\u001b[1mwandb\u001b[0m: \toutput_size: 10\n"
     ]
    },
    {
     "data": {
      "text/html": [
       "Ignoring project 'mnist-classifier' when running a sweep."
      ],
      "text/plain": [
       "<IPython.core.display.HTML object>"
      ]
     },
     "metadata": {},
     "output_type": "display_data"
    },
    {
     "data": {
      "text/html": [
       "Tracking run with wandb version 0.19.4"
      ],
      "text/plain": [
       "<IPython.core.display.HTML object>"
      ]
     },
     "metadata": {},
     "output_type": "display_data"
    },
    {
     "data": {
      "text/html": [
       "Run data is saved locally in <code>/home/ig/ActiveProjects/pum-24/wandb/run-20250128_152511-2rh6ay84</code>"
      ],
      "text/plain": [
       "<IPython.core.display.HTML object>"
      ]
     },
     "metadata": {},
     "output_type": "display_data"
    },
    {
     "data": {
      "text/html": [
       "Syncing run <strong><a href='https://wandb.ai/igmure/mnist-classifier/runs/2rh6ay84' target=\"_blank\">smooth-sweep-6</a></strong> to <a href='https://wandb.ai/igmure/mnist-classifier' target=\"_blank\">Weights & Biases</a> (<a href='https://wandb.me/developer-guide' target=\"_blank\">docs</a>)<br>Sweep page: <a href='https://wandb.ai/igmure/mnist-classifier/sweeps/dqaqwep8' target=\"_blank\">https://wandb.ai/igmure/mnist-classifier/sweeps/dqaqwep8</a>"
      ],
      "text/plain": [
       "<IPython.core.display.HTML object>"
      ]
     },
     "metadata": {},
     "output_type": "display_data"
    },
    {
     "data": {
      "text/html": [
       " View project at <a href='https://wandb.ai/igmure/mnist-classifier' target=\"_blank\">https://wandb.ai/igmure/mnist-classifier</a>"
      ],
      "text/plain": [
       "<IPython.core.display.HTML object>"
      ]
     },
     "metadata": {},
     "output_type": "display_data"
    },
    {
     "data": {
      "text/html": [
       " View sweep at <a href='https://wandb.ai/igmure/mnist-classifier/sweeps/dqaqwep8' target=\"_blank\">https://wandb.ai/igmure/mnist-classifier/sweeps/dqaqwep8</a>"
      ],
      "text/plain": [
       "<IPython.core.display.HTML object>"
      ]
     },
     "metadata": {},
     "output_type": "display_data"
    },
    {
     "data": {
      "text/html": [
       " View run at <a href='https://wandb.ai/igmure/mnist-classifier/runs/2rh6ay84' target=\"_blank\">https://wandb.ai/igmure/mnist-classifier/runs/2rh6ay84</a>"
      ],
      "text/plain": [
       "<IPython.core.display.HTML object>"
      ]
     },
     "metadata": {},
     "output_type": "display_data"
    },
    {
     "name": "stdout",
     "output_type": "stream",
     "text": [
      "Epoch 1/10, Train Loss: 2.1001, Train Accuracy: 0.3789, Val Loss: 1.7852, Val Accuracy: 0.7001\n",
      "Epoch 2/10, Train Loss: 1.6586, Train Accuracy: 0.8251, Val Loss: 1.5727, Val Accuracy: 0.9018\n",
      "Epoch 3/10, Train Loss: 1.5575, Train Accuracy: 0.9145, Val Loss: 1.5439, Val Accuracy: 0.9245\n",
      "Epoch 4/10, Train Loss: 1.5360, Train Accuracy: 0.9322, Val Loss: 1.5295, Val Accuracy: 0.9379\n",
      "Epoch 5/10, Train Loss: 1.5238, Train Accuracy: 0.9430, Val Loss: 1.5215, Val Accuracy: 0.9459\n",
      "Epoch 6/10, Train Loss: 1.5156, Train Accuracy: 0.9503, Val Loss: 1.5143, Val Accuracy: 0.9511\n",
      "Epoch 7/10, Train Loss: 1.5096, Train Accuracy: 0.9556, Val Loss: 1.5098, Val Accuracy: 0.9541\n",
      "Epoch 8/10, Train Loss: 1.5047, Train Accuracy: 0.9606, Val Loss: 1.5047, Val Accuracy: 0.9585\n",
      "Epoch 9/10, Train Loss: 1.5007, Train Accuracy: 0.9639, Val Loss: 1.5023, Val Accuracy: 0.9614\n",
      "Epoch 10/10, Train Loss: 1.4975, Train Accuracy: 0.9668, Val Loss: 1.4992, Val Accuracy: 0.9651\n"
     ]
    },
    {
     "data": {
      "text/html": [],
      "text/plain": [
       "<IPython.core.display.HTML object>"
      ]
     },
     "metadata": {},
     "output_type": "display_data"
    },
    {
     "data": {
      "text/html": [
       "<br>    <style><br>        .wandb-row {<br>            display: flex;<br>            flex-direction: row;<br>            flex-wrap: wrap;<br>            justify-content: flex-start;<br>            width: 100%;<br>        }<br>        .wandb-col {<br>            display: flex;<br>            flex-direction: column;<br>            flex-basis: 100%;<br>            flex: 1;<br>            padding: 10px;<br>        }<br>    </style><br><div class=\"wandb-row\"><div class=\"wandb-col\"><h3>Run history:</h3><br/><table class=\"wandb\"><tr><td>epoch</td><td>▁▂▃▃▄▅▆▆▇█</td></tr><tr><td>train_accuracy</td><td>▁▆▇███████</td></tr><tr><td>train_loss</td><td>█▃▂▁▁▁▁▁▁▁</td></tr><tr><td>val_accuracy</td><td>▁▆▇▇▇█████</td></tr><tr><td>val_loss</td><td>█▃▂▂▂▁▁▁▁▁</td></tr></table><br/></div><div class=\"wandb-col\"><h3>Run summary:</h3><br/><table class=\"wandb\"><tr><td>epoch</td><td>10</td></tr><tr><td>train_accuracy</td><td>0.96685</td></tr><tr><td>train_loss</td><td>1.49746</td></tr><tr><td>val_accuracy</td><td>0.9651</td></tr><tr><td>val_loss</td><td>1.49915</td></tr></table><br/></div></div>"
      ],
      "text/plain": [
       "<IPython.core.display.HTML object>"
      ]
     },
     "metadata": {},
     "output_type": "display_data"
    },
    {
     "data": {
      "text/html": [
       " View run <strong style=\"color:#cdcd00\">smooth-sweep-6</strong> at: <a href='https://wandb.ai/igmure/mnist-classifier/runs/2rh6ay84' target=\"_blank\">https://wandb.ai/igmure/mnist-classifier/runs/2rh6ay84</a><br> View project at: <a href='https://wandb.ai/igmure/mnist-classifier' target=\"_blank\">https://wandb.ai/igmure/mnist-classifier</a><br>Synced 5 W&B file(s), 0 media file(s), 0 artifact file(s) and 0 other file(s)"
      ],
      "text/plain": [
       "<IPython.core.display.HTML object>"
      ]
     },
     "metadata": {},
     "output_type": "display_data"
    },
    {
     "data": {
      "text/html": [
       "Find logs at: <code>./wandb/run-20250128_152511-2rh6ay84/logs</code>"
      ],
      "text/plain": [
       "<IPython.core.display.HTML object>"
      ]
     },
     "metadata": {},
     "output_type": "display_data"
    },
    {
     "name": "stderr",
     "output_type": "stream",
     "text": [
      "\u001b[34m\u001b[1mwandb\u001b[0m: Agent Starting Run: bvgbbegd with config:\n",
      "\u001b[34m\u001b[1mwandb\u001b[0m: \tbatch_size: 64\n",
      "\u001b[34m\u001b[1mwandb\u001b[0m: \tdropout_prob: 0.5\n",
      "\u001b[34m\u001b[1mwandb\u001b[0m: \tepochs: 15\n",
      "\u001b[34m\u001b[1mwandb\u001b[0m: \thidden1_size: 256\n",
      "\u001b[34m\u001b[1mwandb\u001b[0m: \thidden2_size: 128\n",
      "\u001b[34m\u001b[1mwandb\u001b[0m: \thidden3_size: 16\n",
      "\u001b[34m\u001b[1mwandb\u001b[0m: \tinput_size: 784\n",
      "\u001b[34m\u001b[1mwandb\u001b[0m: \tlearning_rate: 0.0001\n",
      "\u001b[34m\u001b[1mwandb\u001b[0m: \toutput_size: 10\n"
     ]
    },
    {
     "data": {
      "text/html": [
       "Ignoring project 'mnist-classifier' when running a sweep."
      ],
      "text/plain": [
       "<IPython.core.display.HTML object>"
      ]
     },
     "metadata": {},
     "output_type": "display_data"
    },
    {
     "data": {
      "text/html": [
       "Tracking run with wandb version 0.19.4"
      ],
      "text/plain": [
       "<IPython.core.display.HTML object>"
      ]
     },
     "metadata": {},
     "output_type": "display_data"
    },
    {
     "data": {
      "text/html": [
       "Run data is saved locally in <code>/home/ig/ActiveProjects/pum-24/wandb/run-20250128_152642-bvgbbegd</code>"
      ],
      "text/plain": [
       "<IPython.core.display.HTML object>"
      ]
     },
     "metadata": {},
     "output_type": "display_data"
    },
    {
     "data": {
      "text/html": [
       "Syncing run <strong><a href='https://wandb.ai/igmure/mnist-classifier/runs/bvgbbegd' target=\"_blank\">legendary-sweep-7</a></strong> to <a href='https://wandb.ai/igmure/mnist-classifier' target=\"_blank\">Weights & Biases</a> (<a href='https://wandb.me/developer-guide' target=\"_blank\">docs</a>)<br>Sweep page: <a href='https://wandb.ai/igmure/mnist-classifier/sweeps/dqaqwep8' target=\"_blank\">https://wandb.ai/igmure/mnist-classifier/sweeps/dqaqwep8</a>"
      ],
      "text/plain": [
       "<IPython.core.display.HTML object>"
      ]
     },
     "metadata": {},
     "output_type": "display_data"
    },
    {
     "data": {
      "text/html": [
       " View project at <a href='https://wandb.ai/igmure/mnist-classifier' target=\"_blank\">https://wandb.ai/igmure/mnist-classifier</a>"
      ],
      "text/plain": [
       "<IPython.core.display.HTML object>"
      ]
     },
     "metadata": {},
     "output_type": "display_data"
    },
    {
     "data": {
      "text/html": [
       " View sweep at <a href='https://wandb.ai/igmure/mnist-classifier/sweeps/dqaqwep8' target=\"_blank\">https://wandb.ai/igmure/mnist-classifier/sweeps/dqaqwep8</a>"
      ],
      "text/plain": [
       "<IPython.core.display.HTML object>"
      ]
     },
     "metadata": {},
     "output_type": "display_data"
    },
    {
     "data": {
      "text/html": [
       " View run at <a href='https://wandb.ai/igmure/mnist-classifier/runs/bvgbbegd' target=\"_blank\">https://wandb.ai/igmure/mnist-classifier/runs/bvgbbegd</a>"
      ],
      "text/plain": [
       "<IPython.core.display.HTML object>"
      ]
     },
     "metadata": {},
     "output_type": "display_data"
    },
    {
     "name": "stdout",
     "output_type": "stream",
     "text": [
      "Epoch 1/15, Train Loss: 2.0820, Train Accuracy: 0.3950, Val Loss: 1.7658, Val Accuracy: 0.7555\n",
      "Epoch 2/15, Train Loss: 1.6169, Train Accuracy: 0.8712, Val Loss: 1.5702, Val Accuracy: 0.9019\n",
      "Epoch 3/15, Train Loss: 1.5595, Train Accuracy: 0.9106, Val Loss: 1.5469, Val Accuracy: 0.9204\n",
      "Epoch 4/15, Train Loss: 1.5414, Train Accuracy: 0.9267, Val Loss: 1.5353, Val Accuracy: 0.9323\n",
      "Epoch 5/15, Train Loss: 1.5301, Train Accuracy: 0.9371, Val Loss: 1.5257, Val Accuracy: 0.9395\n",
      "Epoch 6/15, Train Loss: 1.5214, Train Accuracy: 0.9444, Val Loss: 1.5200, Val Accuracy: 0.9447\n",
      "Epoch 7/15, Train Loss: 1.5155, Train Accuracy: 0.9497, Val Loss: 1.5156, Val Accuracy: 0.9497\n",
      "Epoch 8/15, Train Loss: 1.5106, Train Accuracy: 0.9541, Val Loss: 1.5121, Val Accuracy: 0.9528\n",
      "Epoch 9/15, Train Loss: 1.5063, Train Accuracy: 0.9584, Val Loss: 1.5087, Val Accuracy: 0.9554\n",
      "Epoch 10/15, Train Loss: 1.5025, Train Accuracy: 0.9624, Val Loss: 1.5070, Val Accuracy: 0.9558\n",
      "Epoch 11/15, Train Loss: 1.4993, Train Accuracy: 0.9655, Val Loss: 1.5050, Val Accuracy: 0.9573\n",
      "Epoch 12/15, Train Loss: 1.4968, Train Accuracy: 0.9676, Val Loss: 1.5025, Val Accuracy: 0.9601\n",
      "Epoch 13/15, Train Loss: 1.4944, Train Accuracy: 0.9696, Val Loss: 1.5015, Val Accuracy: 0.9613\n",
      "Epoch 14/15, Train Loss: 1.4921, Train Accuracy: 0.9720, Val Loss: 1.5003, Val Accuracy: 0.9627\n",
      "Epoch 15/15, Train Loss: 1.4903, Train Accuracy: 0.9736, Val Loss: 1.4978, Val Accuracy: 0.9650\n"
     ]
    },
    {
     "data": {
      "text/html": [],
      "text/plain": [
       "<IPython.core.display.HTML object>"
      ]
     },
     "metadata": {},
     "output_type": "display_data"
    },
    {
     "data": {
      "text/html": [
       "<br>    <style><br>        .wandb-row {<br>            display: flex;<br>            flex-direction: row;<br>            flex-wrap: wrap;<br>            justify-content: flex-start;<br>            width: 100%;<br>        }<br>        .wandb-col {<br>            display: flex;<br>            flex-direction: column;<br>            flex-basis: 100%;<br>            flex: 1;<br>            padding: 10px;<br>        }<br>    </style><br><div class=\"wandb-row\"><div class=\"wandb-col\"><h3>Run history:</h3><br/><table class=\"wandb\"><tr><td>epoch</td><td>▁▁▂▃▃▃▄▅▅▅▆▇▇▇█</td></tr><tr><td>train_accuracy</td><td>▁▇▇▇███████████</td></tr><tr><td>train_loss</td><td>█▂▂▂▁▁▁▁▁▁▁▁▁▁▁</td></tr><tr><td>val_accuracy</td><td>▁▆▇▇▇▇▇████████</td></tr><tr><td>val_loss</td><td>█▃▂▂▂▂▁▁▁▁▁▁▁▁▁</td></tr></table><br/></div><div class=\"wandb-col\"><h3>Run summary:</h3><br/><table class=\"wandb\"><tr><td>epoch</td><td>15</td></tr><tr><td>train_accuracy</td><td>0.97357</td></tr><tr><td>train_loss</td><td>1.4903</td></tr><tr><td>val_accuracy</td><td>0.965</td></tr><tr><td>val_loss</td><td>1.49782</td></tr></table><br/></div></div>"
      ],
      "text/plain": [
       "<IPython.core.display.HTML object>"
      ]
     },
     "metadata": {},
     "output_type": "display_data"
    },
    {
     "data": {
      "text/html": [
       " View run <strong style=\"color:#cdcd00\">legendary-sweep-7</strong> at: <a href='https://wandb.ai/igmure/mnist-classifier/runs/bvgbbegd' target=\"_blank\">https://wandb.ai/igmure/mnist-classifier/runs/bvgbbegd</a><br> View project at: <a href='https://wandb.ai/igmure/mnist-classifier' target=\"_blank\">https://wandb.ai/igmure/mnist-classifier</a><br>Synced 5 W&B file(s), 0 media file(s), 0 artifact file(s) and 0 other file(s)"
      ],
      "text/plain": [
       "<IPython.core.display.HTML object>"
      ]
     },
     "metadata": {},
     "output_type": "display_data"
    },
    {
     "data": {
      "text/html": [
       "Find logs at: <code>./wandb/run-20250128_152642-bvgbbegd/logs</code>"
      ],
      "text/plain": [
       "<IPython.core.display.HTML object>"
      ]
     },
     "metadata": {},
     "output_type": "display_data"
    },
    {
     "name": "stderr",
     "output_type": "stream",
     "text": [
      "\u001b[34m\u001b[1mwandb\u001b[0m: Agent Starting Run: 540rxu1y with config:\n",
      "\u001b[34m\u001b[1mwandb\u001b[0m: \tbatch_size: 128\n",
      "\u001b[34m\u001b[1mwandb\u001b[0m: \tdropout_prob: 0.25\n",
      "\u001b[34m\u001b[1mwandb\u001b[0m: \tepochs: 10\n",
      "\u001b[34m\u001b[1mwandb\u001b[0m: \thidden1_size: 256\n",
      "\u001b[34m\u001b[1mwandb\u001b[0m: \thidden2_size: 128\n",
      "\u001b[34m\u001b[1mwandb\u001b[0m: \thidden3_size: 16\n",
      "\u001b[34m\u001b[1mwandb\u001b[0m: \tinput_size: 784\n",
      "\u001b[34m\u001b[1mwandb\u001b[0m: \tlearning_rate: 0.0001\n",
      "\u001b[34m\u001b[1mwandb\u001b[0m: \toutput_size: 10\n"
     ]
    },
    {
     "data": {
      "text/html": [
       "Ignoring project 'mnist-classifier' when running a sweep."
      ],
      "text/plain": [
       "<IPython.core.display.HTML object>"
      ]
     },
     "metadata": {},
     "output_type": "display_data"
    },
    {
     "data": {
      "text/html": [
       "Tracking run with wandb version 0.19.4"
      ],
      "text/plain": [
       "<IPython.core.display.HTML object>"
      ]
     },
     "metadata": {},
     "output_type": "display_data"
    },
    {
     "data": {
      "text/html": [
       "Run data is saved locally in <code>/home/ig/ActiveProjects/pum-24/wandb/run-20250128_152854-540rxu1y</code>"
      ],
      "text/plain": [
       "<IPython.core.display.HTML object>"
      ]
     },
     "metadata": {},
     "output_type": "display_data"
    },
    {
     "data": {
      "text/html": [
       "Syncing run <strong><a href='https://wandb.ai/igmure/mnist-classifier/runs/540rxu1y' target=\"_blank\">celestial-sweep-8</a></strong> to <a href='https://wandb.ai/igmure/mnist-classifier' target=\"_blank\">Weights & Biases</a> (<a href='https://wandb.me/developer-guide' target=\"_blank\">docs</a>)<br>Sweep page: <a href='https://wandb.ai/igmure/mnist-classifier/sweeps/dqaqwep8' target=\"_blank\">https://wandb.ai/igmure/mnist-classifier/sweeps/dqaqwep8</a>"
      ],
      "text/plain": [
       "<IPython.core.display.HTML object>"
      ]
     },
     "metadata": {},
     "output_type": "display_data"
    },
    {
     "data": {
      "text/html": [
       " View project at <a href='https://wandb.ai/igmure/mnist-classifier' target=\"_blank\">https://wandb.ai/igmure/mnist-classifier</a>"
      ],
      "text/plain": [
       "<IPython.core.display.HTML object>"
      ]
     },
     "metadata": {},
     "output_type": "display_data"
    },
    {
     "data": {
      "text/html": [
       " View sweep at <a href='https://wandb.ai/igmure/mnist-classifier/sweeps/dqaqwep8' target=\"_blank\">https://wandb.ai/igmure/mnist-classifier/sweeps/dqaqwep8</a>"
      ],
      "text/plain": [
       "<IPython.core.display.HTML object>"
      ]
     },
     "metadata": {},
     "output_type": "display_data"
    },
    {
     "data": {
      "text/html": [
       " View run at <a href='https://wandb.ai/igmure/mnist-classifier/runs/540rxu1y' target=\"_blank\">https://wandb.ai/igmure/mnist-classifier/runs/540rxu1y</a>"
      ],
      "text/plain": [
       "<IPython.core.display.HTML object>"
      ]
     },
     "metadata": {},
     "output_type": "display_data"
    },
    {
     "name": "stdout",
     "output_type": "stream",
     "text": [
      "Epoch 1/10, Train Loss: 1.9209, Train Accuracy: 0.5838, Val Loss: 1.6886, Val Accuracy: 0.7885\n",
      "Epoch 2/10, Train Loss: 1.6526, Train Accuracy: 0.8187, Val Loss: 1.6307, Val Accuracy: 0.8351\n",
      "Epoch 3/10, Train Loss: 1.6262, Train Accuracy: 0.8397, Val Loss: 1.6163, Val Accuracy: 0.8488\n",
      "Epoch 4/10, Train Loss: 1.6150, Train Accuracy: 0.8496, Val Loss: 1.6093, Val Accuracy: 0.8541\n",
      "Epoch 5/10, Train Loss: 1.6075, Train Accuracy: 0.8564, Val Loss: 1.6042, Val Accuracy: 0.8595\n",
      "Epoch 6/10, Train Loss: 1.6017, Train Accuracy: 0.8620, Val Loss: 1.6007, Val Accuracy: 0.8626\n",
      "Epoch 7/10, Train Loss: 1.5973, Train Accuracy: 0.8660, Val Loss: 1.5963, Val Accuracy: 0.8661\n",
      "Epoch 8/10, Train Loss: 1.5936, Train Accuracy: 0.8691, Val Loss: 1.5948, Val Accuracy: 0.8676\n",
      "Epoch 9/10, Train Loss: 1.5900, Train Accuracy: 0.8724, Val Loss: 1.5927, Val Accuracy: 0.8689\n",
      "Epoch 10/10, Train Loss: 1.5871, Train Accuracy: 0.8752, Val Loss: 1.5916, Val Accuracy: 0.8699\n"
     ]
    },
    {
     "data": {
      "text/html": [],
      "text/plain": [
       "<IPython.core.display.HTML object>"
      ]
     },
     "metadata": {},
     "output_type": "display_data"
    },
    {
     "data": {
      "text/html": [
       "<br>    <style><br>        .wandb-row {<br>            display: flex;<br>            flex-direction: row;<br>            flex-wrap: wrap;<br>            justify-content: flex-start;<br>            width: 100%;<br>        }<br>        .wandb-col {<br>            display: flex;<br>            flex-direction: column;<br>            flex-basis: 100%;<br>            flex: 1;<br>            padding: 10px;<br>        }<br>    </style><br><div class=\"wandb-row\"><div class=\"wandb-col\"><h3>Run history:</h3><br/><table class=\"wandb\"><tr><td>epoch</td><td>▁▂▃▃▄▅▆▆▇█</td></tr><tr><td>train_accuracy</td><td>▁▇▇▇██████</td></tr><tr><td>train_loss</td><td>█▂▂▂▁▁▁▁▁▁</td></tr><tr><td>val_accuracy</td><td>▁▅▆▇▇▇████</td></tr><tr><td>val_loss</td><td>█▄▃▂▂▂▁▁▁▁</td></tr></table><br/></div><div class=\"wandb-col\"><h3>Run summary:</h3><br/><table class=\"wandb\"><tr><td>epoch</td><td>10</td></tr><tr><td>train_accuracy</td><td>0.87521</td></tr><tr><td>train_loss</td><td>1.58705</td></tr><tr><td>val_accuracy</td><td>0.86989</td></tr><tr><td>val_loss</td><td>1.59155</td></tr></table><br/></div></div>"
      ],
      "text/plain": [
       "<IPython.core.display.HTML object>"
      ]
     },
     "metadata": {},
     "output_type": "display_data"
    },
    {
     "data": {
      "text/html": [
       " View run <strong style=\"color:#cdcd00\">celestial-sweep-8</strong> at: <a href='https://wandb.ai/igmure/mnist-classifier/runs/540rxu1y' target=\"_blank\">https://wandb.ai/igmure/mnist-classifier/runs/540rxu1y</a><br> View project at: <a href='https://wandb.ai/igmure/mnist-classifier' target=\"_blank\">https://wandb.ai/igmure/mnist-classifier</a><br>Synced 5 W&B file(s), 0 media file(s), 0 artifact file(s) and 0 other file(s)"
      ],
      "text/plain": [
       "<IPython.core.display.HTML object>"
      ]
     },
     "metadata": {},
     "output_type": "display_data"
    },
    {
     "data": {
      "text/html": [
       "Find logs at: <code>./wandb/run-20250128_152854-540rxu1y/logs</code>"
      ],
      "text/plain": [
       "<IPython.core.display.HTML object>"
      ]
     },
     "metadata": {},
     "output_type": "display_data"
    },
    {
     "name": "stderr",
     "output_type": "stream",
     "text": [
      "\u001b[34m\u001b[1mwandb\u001b[0m: Sweep Agent: Waiting for job.\n",
      "\u001b[34m\u001b[1mwandb\u001b[0m: Job received.\n",
      "\u001b[34m\u001b[1mwandb\u001b[0m: Agent Starting Run: kiibblon with config:\n",
      "\u001b[34m\u001b[1mwandb\u001b[0m: \tbatch_size: 128\n",
      "\u001b[34m\u001b[1mwandb\u001b[0m: \tdropout_prob: 0.5\n",
      "\u001b[34m\u001b[1mwandb\u001b[0m: \tepochs: 15\n",
      "\u001b[34m\u001b[1mwandb\u001b[0m: \thidden1_size: 256\n",
      "\u001b[34m\u001b[1mwandb\u001b[0m: \thidden2_size: 32\n",
      "\u001b[34m\u001b[1mwandb\u001b[0m: \thidden3_size: 16\n",
      "\u001b[34m\u001b[1mwandb\u001b[0m: \tinput_size: 784\n",
      "\u001b[34m\u001b[1mwandb\u001b[0m: \tlearning_rate: 0.0001\n",
      "\u001b[34m\u001b[1mwandb\u001b[0m: \toutput_size: 10\n"
     ]
    },
    {
     "data": {
      "text/html": [
       "Ignoring project 'mnist-classifier' when running a sweep."
      ],
      "text/plain": [
       "<IPython.core.display.HTML object>"
      ]
     },
     "metadata": {},
     "output_type": "display_data"
    },
    {
     "data": {
      "text/html": [
       "Tracking run with wandb version 0.19.4"
      ],
      "text/plain": [
       "<IPython.core.display.HTML object>"
      ]
     },
     "metadata": {},
     "output_type": "display_data"
    },
    {
     "data": {
      "text/html": [
       "Run data is saved locally in <code>/home/ig/ActiveProjects/pum-24/wandb/run-20250128_153039-kiibblon</code>"
      ],
      "text/plain": [
       "<IPython.core.display.HTML object>"
      ]
     },
     "metadata": {},
     "output_type": "display_data"
    },
    {
     "data": {
      "text/html": [
       "Syncing run <strong><a href='https://wandb.ai/igmure/mnist-classifier/runs/kiibblon' target=\"_blank\">easy-sweep-9</a></strong> to <a href='https://wandb.ai/igmure/mnist-classifier' target=\"_blank\">Weights & Biases</a> (<a href='https://wandb.me/developer-guide' target=\"_blank\">docs</a>)<br>Sweep page: <a href='https://wandb.ai/igmure/mnist-classifier/sweeps/dqaqwep8' target=\"_blank\">https://wandb.ai/igmure/mnist-classifier/sweeps/dqaqwep8</a>"
      ],
      "text/plain": [
       "<IPython.core.display.HTML object>"
      ]
     },
     "metadata": {},
     "output_type": "display_data"
    },
    {
     "data": {
      "text/html": [
       " View project at <a href='https://wandb.ai/igmure/mnist-classifier' target=\"_blank\">https://wandb.ai/igmure/mnist-classifier</a>"
      ],
      "text/plain": [
       "<IPython.core.display.HTML object>"
      ]
     },
     "metadata": {},
     "output_type": "display_data"
    },
    {
     "data": {
      "text/html": [
       " View sweep at <a href='https://wandb.ai/igmure/mnist-classifier/sweeps/dqaqwep8' target=\"_blank\">https://wandb.ai/igmure/mnist-classifier/sweeps/dqaqwep8</a>"
      ],
      "text/plain": [
       "<IPython.core.display.HTML object>"
      ]
     },
     "metadata": {},
     "output_type": "display_data"
    },
    {
     "data": {
      "text/html": [
       " View run at <a href='https://wandb.ai/igmure/mnist-classifier/runs/kiibblon' target=\"_blank\">https://wandb.ai/igmure/mnist-classifier/runs/kiibblon</a>"
      ],
      "text/plain": [
       "<IPython.core.display.HTML object>"
      ]
     },
     "metadata": {},
     "output_type": "display_data"
    },
    {
     "name": "stdout",
     "output_type": "stream",
     "text": [
      "Epoch 1/15, Train Loss: 2.1780, Train Accuracy: 0.2724, Val Loss: 1.9513, Val Accuracy: 0.6220\n",
      "Epoch 2/15, Train Loss: 1.7276, Train Accuracy: 0.7646, Val Loss: 1.6638, Val Accuracy: 0.8100\n",
      "Epoch 3/15, Train Loss: 1.6418, Train Accuracy: 0.8336, Val Loss: 1.5848, Val Accuracy: 0.8971\n",
      "Epoch 4/15, Train Loss: 1.5726, Train Accuracy: 0.9039, Val Loss: 1.5593, Val Accuracy: 0.9115\n",
      "Epoch 5/15, Train Loss: 1.5539, Train Accuracy: 0.9178, Val Loss: 1.5464, Val Accuracy: 0.9219\n",
      "Epoch 6/15, Train Loss: 1.5426, Train Accuracy: 0.9266, Val Loss: 1.5399, Val Accuracy: 0.9280\n",
      "Epoch 7/15, Train Loss: 1.5339, Train Accuracy: 0.9344, Val Loss: 1.5324, Val Accuracy: 0.9340\n",
      "Epoch 8/15, Train Loss: 1.5271, Train Accuracy: 0.9408, Val Loss: 1.5268, Val Accuracy: 0.9395\n",
      "Epoch 9/15, Train Loss: 1.5211, Train Accuracy: 0.9459, Val Loss: 1.5235, Val Accuracy: 0.9425\n",
      "Epoch 10/15, Train Loss: 1.5166, Train Accuracy: 0.9502, Val Loss: 1.5197, Val Accuracy: 0.9459\n",
      "Epoch 11/15, Train Loss: 1.5127, Train Accuracy: 0.9531, Val Loss: 1.5145, Val Accuracy: 0.9503\n",
      "Epoch 12/15, Train Loss: 1.5091, Train Accuracy: 0.9565, Val Loss: 1.5132, Val Accuracy: 0.9510\n",
      "Epoch 13/15, Train Loss: 1.5063, Train Accuracy: 0.9590, Val Loss: 1.5105, Val Accuracy: 0.9540\n",
      "Epoch 14/15, Train Loss: 1.5038, Train Accuracy: 0.9613, Val Loss: 1.5088, Val Accuracy: 0.9550\n",
      "Epoch 15/15, Train Loss: 1.5014, Train Accuracy: 0.9638, Val Loss: 1.5074, Val Accuracy: 0.9569\n"
     ]
    },
    {
     "data": {
      "text/html": [],
      "text/plain": [
       "<IPython.core.display.HTML object>"
      ]
     },
     "metadata": {},
     "output_type": "display_data"
    },
    {
     "data": {
      "text/html": [
       "<br>    <style><br>        .wandb-row {<br>            display: flex;<br>            flex-direction: row;<br>            flex-wrap: wrap;<br>            justify-content: flex-start;<br>            width: 100%;<br>        }<br>        .wandb-col {<br>            display: flex;<br>            flex-direction: column;<br>            flex-basis: 100%;<br>            flex: 1;<br>            padding: 10px;<br>        }<br>    </style><br><div class=\"wandb-row\"><div class=\"wandb-col\"><h3>Run history:</h3><br/><table class=\"wandb\"><tr><td>epoch</td><td>▁▁▂▃▃▃▄▅▅▅▆▇▇▇█</td></tr><tr><td>train_accuracy</td><td>▁▆▇▇███████████</td></tr><tr><td>train_loss</td><td>█▃▂▂▂▁▁▁▁▁▁▁▁▁▁</td></tr><tr><td>val_accuracy</td><td>▁▅▇▇▇▇█████████</td></tr><tr><td>val_loss</td><td>█▃▂▂▂▂▁▁▁▁▁▁▁▁▁</td></tr></table><br/></div><div class=\"wandb-col\"><h3>Run summary:</h3><br/><table class=\"wandb\"><tr><td>epoch</td><td>15</td></tr><tr><td>train_accuracy</td><td>0.9638</td></tr><tr><td>train_loss</td><td>1.5014</td></tr><tr><td>val_accuracy</td><td>0.9569</td></tr><tr><td>val_loss</td><td>1.50742</td></tr></table><br/></div></div>"
      ],
      "text/plain": [
       "<IPython.core.display.HTML object>"
      ]
     },
     "metadata": {},
     "output_type": "display_data"
    },
    {
     "data": {
      "text/html": [
       " View run <strong style=\"color:#cdcd00\">easy-sweep-9</strong> at: <a href='https://wandb.ai/igmure/mnist-classifier/runs/kiibblon' target=\"_blank\">https://wandb.ai/igmure/mnist-classifier/runs/kiibblon</a><br> View project at: <a href='https://wandb.ai/igmure/mnist-classifier' target=\"_blank\">https://wandb.ai/igmure/mnist-classifier</a><br>Synced 5 W&B file(s), 0 media file(s), 0 artifact file(s) and 0 other file(s)"
      ],
      "text/plain": [
       "<IPython.core.display.HTML object>"
      ]
     },
     "metadata": {},
     "output_type": "display_data"
    },
    {
     "data": {
      "text/html": [
       "Find logs at: <code>./wandb/run-20250128_153039-kiibblon/logs</code>"
      ],
      "text/plain": [
       "<IPython.core.display.HTML object>"
      ]
     },
     "metadata": {},
     "output_type": "display_data"
    },
    {
     "name": "stderr",
     "output_type": "stream",
     "text": [
      "\u001b[34m\u001b[1mwandb\u001b[0m: Agent Starting Run: wtzd8s9e with config:\n",
      "\u001b[34m\u001b[1mwandb\u001b[0m: \tbatch_size: 128\n",
      "\u001b[34m\u001b[1mwandb\u001b[0m: \tdropout_prob: 0.5\n",
      "\u001b[34m\u001b[1mwandb\u001b[0m: \tepochs: 15\n",
      "\u001b[34m\u001b[1mwandb\u001b[0m: \thidden1_size: 256\n",
      "\u001b[34m\u001b[1mwandb\u001b[0m: \thidden2_size: 64\n",
      "\u001b[34m\u001b[1mwandb\u001b[0m: \thidden3_size: 16\n",
      "\u001b[34m\u001b[1mwandb\u001b[0m: \tinput_size: 784\n",
      "\u001b[34m\u001b[1mwandb\u001b[0m: \tlearning_rate: 0.0001\n",
      "\u001b[34m\u001b[1mwandb\u001b[0m: \toutput_size: 10\n"
     ]
    },
    {
     "data": {
      "text/html": [
       "Ignoring project 'mnist-classifier' when running a sweep."
      ],
      "text/plain": [
       "<IPython.core.display.HTML object>"
      ]
     },
     "metadata": {},
     "output_type": "display_data"
    },
    {
     "data": {
      "text/html": [
       "Tracking run with wandb version 0.19.4"
      ],
      "text/plain": [
       "<IPython.core.display.HTML object>"
      ]
     },
     "metadata": {},
     "output_type": "display_data"
    },
    {
     "data": {
      "text/html": [
       "Run data is saved locally in <code>/home/ig/ActiveProjects/pum-24/wandb/run-20250128_153308-wtzd8s9e</code>"
      ],
      "text/plain": [
       "<IPython.core.display.HTML object>"
      ]
     },
     "metadata": {},
     "output_type": "display_data"
    },
    {
     "data": {
      "text/html": [
       "Syncing run <strong><a href='https://wandb.ai/igmure/mnist-classifier/runs/wtzd8s9e' target=\"_blank\">fresh-sweep-10</a></strong> to <a href='https://wandb.ai/igmure/mnist-classifier' target=\"_blank\">Weights & Biases</a> (<a href='https://wandb.me/developer-guide' target=\"_blank\">docs</a>)<br>Sweep page: <a href='https://wandb.ai/igmure/mnist-classifier/sweeps/dqaqwep8' target=\"_blank\">https://wandb.ai/igmure/mnist-classifier/sweeps/dqaqwep8</a>"
      ],
      "text/plain": [
       "<IPython.core.display.HTML object>"
      ]
     },
     "metadata": {},
     "output_type": "display_data"
    },
    {
     "data": {
      "text/html": [
       " View project at <a href='https://wandb.ai/igmure/mnist-classifier' target=\"_blank\">https://wandb.ai/igmure/mnist-classifier</a>"
      ],
      "text/plain": [
       "<IPython.core.display.HTML object>"
      ]
     },
     "metadata": {},
     "output_type": "display_data"
    },
    {
     "data": {
      "text/html": [
       " View sweep at <a href='https://wandb.ai/igmure/mnist-classifier/sweeps/dqaqwep8' target=\"_blank\">https://wandb.ai/igmure/mnist-classifier/sweeps/dqaqwep8</a>"
      ],
      "text/plain": [
       "<IPython.core.display.HTML object>"
      ]
     },
     "metadata": {},
     "output_type": "display_data"
    },
    {
     "data": {
      "text/html": [
       " View run at <a href='https://wandb.ai/igmure/mnist-classifier/runs/wtzd8s9e' target=\"_blank\">https://wandb.ai/igmure/mnist-classifier/runs/wtzd8s9e</a>"
      ],
      "text/plain": [
       "<IPython.core.display.HTML object>"
      ]
     },
     "metadata": {},
     "output_type": "display_data"
    },
    {
     "name": "stdout",
     "output_type": "stream",
     "text": [
      "Epoch 1/15, Train Loss: 2.1214, Train Accuracy: 0.3528, Val Loss: 1.8587, Val Accuracy: 0.6328\n",
      "Epoch 2/15, Train Loss: 1.6755, Train Accuracy: 0.8116, Val Loss: 1.5788, Val Accuracy: 0.8966\n",
      "Epoch 3/15, Train Loss: 1.5672, Train Accuracy: 0.9064, Val Loss: 1.5539, Val Accuracy: 0.9154\n",
      "Epoch 4/15, Train Loss: 1.5461, Train Accuracy: 0.9229, Val Loss: 1.5390, Val Accuracy: 0.9298\n",
      "Epoch 5/15, Train Loss: 1.5330, Train Accuracy: 0.9348, Val Loss: 1.5289, Val Accuracy: 0.9370\n",
      "Epoch 6/15, Train Loss: 1.5237, Train Accuracy: 0.9432, Val Loss: 1.5218, Val Accuracy: 0.9445\n",
      "Epoch 7/15, Train Loss: 1.5168, Train Accuracy: 0.9497, Val Loss: 1.5185, Val Accuracy: 0.9481\n",
      "Epoch 8/15, Train Loss: 1.5115, Train Accuracy: 0.9546, Val Loss: 1.5123, Val Accuracy: 0.9521\n",
      "Epoch 9/15, Train Loss: 1.5072, Train Accuracy: 0.9589, Val Loss: 1.5086, Val Accuracy: 0.9574\n",
      "Epoch 10/15, Train Loss: 1.5035, Train Accuracy: 0.9619, Val Loss: 1.5076, Val Accuracy: 0.9565\n",
      "Epoch 11/15, Train Loss: 1.5004, Train Accuracy: 0.9647, Val Loss: 1.5049, Val Accuracy: 0.9588\n",
      "Epoch 12/15, Train Loss: 1.4981, Train Accuracy: 0.9666, Val Loss: 1.5067, Val Accuracy: 0.9569\n",
      "Epoch 13/15, Train Loss: 1.4957, Train Accuracy: 0.9689, Val Loss: 1.5015, Val Accuracy: 0.9622\n",
      "Epoch 14/15, Train Loss: 1.4937, Train Accuracy: 0.9703, Val Loss: 1.4993, Val Accuracy: 0.9643\n",
      "Epoch 15/15, Train Loss: 1.4919, Train Accuracy: 0.9720, Val Loss: 1.4989, Val Accuracy: 0.9634\n"
     ]
    },
    {
     "data": {
      "text/html": [],
      "text/plain": [
       "<IPython.core.display.HTML object>"
      ]
     },
     "metadata": {},
     "output_type": "display_data"
    },
    {
     "data": {
      "text/html": [
       "<br>    <style><br>        .wandb-row {<br>            display: flex;<br>            flex-direction: row;<br>            flex-wrap: wrap;<br>            justify-content: flex-start;<br>            width: 100%;<br>        }<br>        .wandb-col {<br>            display: flex;<br>            flex-direction: column;<br>            flex-basis: 100%;<br>            flex: 1;<br>            padding: 10px;<br>        }<br>    </style><br><div class=\"wandb-row\"><div class=\"wandb-col\"><h3>Run history:</h3><br/><table class=\"wandb\"><tr><td>epoch</td><td>▁▁▂▃▃▃▄▅▅▅▆▇▇▇█</td></tr><tr><td>train_accuracy</td><td>▁▆▇▇███████████</td></tr><tr><td>train_loss</td><td>█▃▂▂▁▁▁▁▁▁▁▁▁▁▁</td></tr><tr><td>val_accuracy</td><td>▁▇▇▇▇██████████</td></tr><tr><td>val_loss</td><td>█▃▂▂▂▁▁▁▁▁▁▁▁▁▁</td></tr></table><br/></div><div class=\"wandb-col\"><h3>Run summary:</h3><br/><table class=\"wandb\"><tr><td>epoch</td><td>15</td></tr><tr><td>train_accuracy</td><td>0.97203</td></tr><tr><td>train_loss</td><td>1.49189</td></tr><tr><td>val_accuracy</td><td>0.9634</td></tr><tr><td>val_loss</td><td>1.49893</td></tr></table><br/></div></div>"
      ],
      "text/plain": [
       "<IPython.core.display.HTML object>"
      ]
     },
     "metadata": {},
     "output_type": "display_data"
    },
    {
     "data": {
      "text/html": [
       " View run <strong style=\"color:#cdcd00\">fresh-sweep-10</strong> at: <a href='https://wandb.ai/igmure/mnist-classifier/runs/wtzd8s9e' target=\"_blank\">https://wandb.ai/igmure/mnist-classifier/runs/wtzd8s9e</a><br> View project at: <a href='https://wandb.ai/igmure/mnist-classifier' target=\"_blank\">https://wandb.ai/igmure/mnist-classifier</a><br>Synced 5 W&B file(s), 0 media file(s), 0 artifact file(s) and 0 other file(s)"
      ],
      "text/plain": [
       "<IPython.core.display.HTML object>"
      ]
     },
     "metadata": {},
     "output_type": "display_data"
    },
    {
     "data": {
      "text/html": [
       "Find logs at: <code>./wandb/run-20250128_153308-wtzd8s9e/logs</code>"
      ],
      "text/plain": [
       "<IPython.core.display.HTML object>"
      ]
     },
     "metadata": {},
     "output_type": "display_data"
    },
    {
     "name": "stderr",
     "output_type": "stream",
     "text": [
      "\u001b[34m\u001b[1mwandb\u001b[0m: Agent Starting Run: 5esex6ey with config:\n",
      "\u001b[34m\u001b[1mwandb\u001b[0m: \tbatch_size: 64\n",
      "\u001b[34m\u001b[1mwandb\u001b[0m: \tdropout_prob: 0.5\n",
      "\u001b[34m\u001b[1mwandb\u001b[0m: \tepochs: 15\n",
      "\u001b[34m\u001b[1mwandb\u001b[0m: \thidden1_size: 128\n",
      "\u001b[34m\u001b[1mwandb\u001b[0m: \thidden2_size: 32\n",
      "\u001b[34m\u001b[1mwandb\u001b[0m: \thidden3_size: 32\n",
      "\u001b[34m\u001b[1mwandb\u001b[0m: \tinput_size: 784\n",
      "\u001b[34m\u001b[1mwandb\u001b[0m: \tlearning_rate: 0.001\n",
      "\u001b[34m\u001b[1mwandb\u001b[0m: \toutput_size: 10\n"
     ]
    },
    {
     "data": {
      "text/html": [
       "Ignoring project 'mnist-classifier' when running a sweep."
      ],
      "text/plain": [
       "<IPython.core.display.HTML object>"
      ]
     },
     "metadata": {},
     "output_type": "display_data"
    },
    {
     "data": {
      "text/html": [
       "Tracking run with wandb version 0.19.4"
      ],
      "text/plain": [
       "<IPython.core.display.HTML object>"
      ]
     },
     "metadata": {},
     "output_type": "display_data"
    },
    {
     "data": {
      "text/html": [
       "Run data is saved locally in <code>/home/ig/ActiveProjects/pum-24/wandb/run-20250128_153515-5esex6ey</code>"
      ],
      "text/plain": [
       "<IPython.core.display.HTML object>"
      ]
     },
     "metadata": {},
     "output_type": "display_data"
    },
    {
     "data": {
      "text/html": [
       "Syncing run <strong><a href='https://wandb.ai/igmure/mnist-classifier/runs/5esex6ey' target=\"_blank\">hardy-sweep-11</a></strong> to <a href='https://wandb.ai/igmure/mnist-classifier' target=\"_blank\">Weights & Biases</a> (<a href='https://wandb.me/developer-guide' target=\"_blank\">docs</a>)<br>Sweep page: <a href='https://wandb.ai/igmure/mnist-classifier/sweeps/dqaqwep8' target=\"_blank\">https://wandb.ai/igmure/mnist-classifier/sweeps/dqaqwep8</a>"
      ],
      "text/plain": [
       "<IPython.core.display.HTML object>"
      ]
     },
     "metadata": {},
     "output_type": "display_data"
    },
    {
     "data": {
      "text/html": [
       " View project at <a href='https://wandb.ai/igmure/mnist-classifier' target=\"_blank\">https://wandb.ai/igmure/mnist-classifier</a>"
      ],
      "text/plain": [
       "<IPython.core.display.HTML object>"
      ]
     },
     "metadata": {},
     "output_type": "display_data"
    },
    {
     "data": {
      "text/html": [
       " View sweep at <a href='https://wandb.ai/igmure/mnist-classifier/sweeps/dqaqwep8' target=\"_blank\">https://wandb.ai/igmure/mnist-classifier/sweeps/dqaqwep8</a>"
      ],
      "text/plain": [
       "<IPython.core.display.HTML object>"
      ]
     },
     "metadata": {},
     "output_type": "display_data"
    },
    {
     "data": {
      "text/html": [
       " View run at <a href='https://wandb.ai/igmure/mnist-classifier/runs/5esex6ey' target=\"_blank\">https://wandb.ai/igmure/mnist-classifier/runs/5esex6ey</a>"
      ],
      "text/plain": [
       "<IPython.core.display.HTML object>"
      ]
     },
     "metadata": {},
     "output_type": "display_data"
    },
    {
     "name": "stdout",
     "output_type": "stream",
     "text": [
      "Epoch 1/15, Train Loss: 1.8620, Train Accuracy: 0.6113, Val Loss: 1.5662, Val Accuracy: 0.9051\n",
      "Epoch 2/15, Train Loss: 1.5399, Train Accuracy: 0.9235, Val Loss: 1.5229, Val Accuracy: 0.9397\n",
      "Epoch 3/15, Train Loss: 1.5168, Train Accuracy: 0.9454, Val Loss: 1.5099, Val Accuracy: 0.9513\n",
      "Epoch 4/15, Train Loss: 1.5052, Train Accuracy: 0.9565, Val Loss: 1.5064, Val Accuracy: 0.9545\n",
      "Epoch 5/15, Train Loss: 1.4990, Train Accuracy: 0.9625, Val Loss: 1.4969, Val Accuracy: 0.9648\n",
      "Epoch 6/15, Train Loss: 1.4943, Train Accuracy: 0.9672, Val Loss: 1.4979, Val Accuracy: 0.9640\n",
      "Epoch 7/15, Train Loss: 1.4915, Train Accuracy: 0.9699, Val Loss: 1.4950, Val Accuracy: 0.9662\n",
      "Epoch 8/15, Train Loss: 1.4895, Train Accuracy: 0.9715, Val Loss: 1.4958, Val Accuracy: 0.9652\n",
      "Epoch 9/15, Train Loss: 1.4871, Train Accuracy: 0.9742, Val Loss: 1.4938, Val Accuracy: 0.9670\n",
      "Epoch 10/15, Train Loss: 1.4864, Train Accuracy: 0.9749, Val Loss: 1.4953, Val Accuracy: 0.9655\n",
      "Epoch 11/15, Train Loss: 1.4844, Train Accuracy: 0.9769, Val Loss: 1.4916, Val Accuracy: 0.9699\n",
      "Epoch 12/15, Train Loss: 1.4833, Train Accuracy: 0.9778, Val Loss: 1.4937, Val Accuracy: 0.9671\n",
      "Epoch 13/15, Train Loss: 1.4827, Train Accuracy: 0.9786, Val Loss: 1.4879, Val Accuracy: 0.9732\n",
      "Epoch 14/15, Train Loss: 1.4813, Train Accuracy: 0.9799, Val Loss: 1.4899, Val Accuracy: 0.9711\n",
      "Epoch 15/15, Train Loss: 1.4814, Train Accuracy: 0.9798, Val Loss: 1.4902, Val Accuracy: 0.9707\n"
     ]
    },
    {
     "data": {
      "text/html": [],
      "text/plain": [
       "<IPython.core.display.HTML object>"
      ]
     },
     "metadata": {},
     "output_type": "display_data"
    },
    {
     "data": {
      "text/html": [
       "<br>    <style><br>        .wandb-row {<br>            display: flex;<br>            flex-direction: row;<br>            flex-wrap: wrap;<br>            justify-content: flex-start;<br>            width: 100%;<br>        }<br>        .wandb-col {<br>            display: flex;<br>            flex-direction: column;<br>            flex-basis: 100%;<br>            flex: 1;<br>            padding: 10px;<br>        }<br>    </style><br><div class=\"wandb-row\"><div class=\"wandb-col\"><h3>Run history:</h3><br/><table class=\"wandb\"><tr><td>epoch</td><td>▁▁▂▃▃▃▄▅▅▅▆▇▇▇█</td></tr><tr><td>train_accuracy</td><td>▁▇▇████████████</td></tr><tr><td>train_loss</td><td>█▂▂▁▁▁▁▁▁▁▁▁▁▁▁</td></tr><tr><td>val_accuracy</td><td>▁▅▆▆▇▇▇▇▇▇█▇███</td></tr><tr><td>val_loss</td><td>█▄▃▃▂▂▂▂▂▂▁▂▁▁▁</td></tr></table><br/></div><div class=\"wandb-col\"><h3>Run summary:</h3><br/><table class=\"wandb\"><tr><td>epoch</td><td>15</td></tr><tr><td>train_accuracy</td><td>0.9798</td></tr><tr><td>train_loss</td><td>1.4814</td></tr><tr><td>val_accuracy</td><td>0.9707</td></tr><tr><td>val_loss</td><td>1.49023</td></tr></table><br/></div></div>"
      ],
      "text/plain": [
       "<IPython.core.display.HTML object>"
      ]
     },
     "metadata": {},
     "output_type": "display_data"
    },
    {
     "data": {
      "text/html": [
       " View run <strong style=\"color:#cdcd00\">hardy-sweep-11</strong> at: <a href='https://wandb.ai/igmure/mnist-classifier/runs/5esex6ey' target=\"_blank\">https://wandb.ai/igmure/mnist-classifier/runs/5esex6ey</a><br> View project at: <a href='https://wandb.ai/igmure/mnist-classifier' target=\"_blank\">https://wandb.ai/igmure/mnist-classifier</a><br>Synced 5 W&B file(s), 0 media file(s), 0 artifact file(s) and 0 other file(s)"
      ],
      "text/plain": [
       "<IPython.core.display.HTML object>"
      ]
     },
     "metadata": {},
     "output_type": "display_data"
    },
    {
     "data": {
      "text/html": [
       "Find logs at: <code>./wandb/run-20250128_153515-5esex6ey/logs</code>"
      ],
      "text/plain": [
       "<IPython.core.display.HTML object>"
      ]
     },
     "metadata": {},
     "output_type": "display_data"
    },
    {
     "name": "stderr",
     "output_type": "stream",
     "text": [
      "\u001b[34m\u001b[1mwandb\u001b[0m: Sweep Agent: Waiting for job.\n",
      "500 response executing GraphQL.\n",
      "{\"errors\":[{\"message\":\"Post \\\"http://anaconda2.default.svc.cluster.local/search\\\": read tcp 10.54.77.4:43546-\\u003e10.55.247.53:80: read: connection reset by peer\",\"path\":[\"agentHeartbeat\"]}],\"data\":{\"agentHeartbeat\":null}}\n",
      "\u001b[34m\u001b[1mwandb\u001b[0m: \u001b[32m\u001b[41mERROR\u001b[0m Error while calling W&B API: Post \"http://anaconda2.default.svc.cluster.local/search\": read tcp 10.54.77.4:43546->10.55.247.53:80: read: connection reset by peer (<Response [500]>)\n",
      "\u001b[34m\u001b[1mwandb\u001b[0m: Job received.\n",
      "\u001b[34m\u001b[1mwandb\u001b[0m: Agent Starting Run: awi0lajp with config:\n",
      "\u001b[34m\u001b[1mwandb\u001b[0m: \tbatch_size: 64\n",
      "\u001b[34m\u001b[1mwandb\u001b[0m: \tdropout_prob: 0.5\n",
      "\u001b[34m\u001b[1mwandb\u001b[0m: \tepochs: 15\n",
      "\u001b[34m\u001b[1mwandb\u001b[0m: \thidden1_size: 128\n",
      "\u001b[34m\u001b[1mwandb\u001b[0m: \thidden2_size: 32\n",
      "\u001b[34m\u001b[1mwandb\u001b[0m: \thidden3_size: 64\n",
      "\u001b[34m\u001b[1mwandb\u001b[0m: \tinput_size: 784\n",
      "\u001b[34m\u001b[1mwandb\u001b[0m: \tlearning_rate: 0.001\n",
      "\u001b[34m\u001b[1mwandb\u001b[0m: \toutput_size: 10\n"
     ]
    },
    {
     "data": {
      "text/html": [
       "Ignoring project 'mnist-classifier' when running a sweep."
      ],
      "text/plain": [
       "<IPython.core.display.HTML object>"
      ]
     },
     "metadata": {},
     "output_type": "display_data"
    },
    {
     "data": {
      "text/html": [
       "Tracking run with wandb version 0.19.4"
      ],
      "text/plain": [
       "<IPython.core.display.HTML object>"
      ]
     },
     "metadata": {},
     "output_type": "display_data"
    },
    {
     "data": {
      "text/html": [
       "Run data is saved locally in <code>/home/ig/ActiveProjects/pum-24/wandb/run-20250128_153755-awi0lajp</code>"
      ],
      "text/plain": [
       "<IPython.core.display.HTML object>"
      ]
     },
     "metadata": {},
     "output_type": "display_data"
    },
    {
     "data": {
      "text/html": [
       "Syncing run <strong><a href='https://wandb.ai/igmure/mnist-classifier/runs/awi0lajp' target=\"_blank\">soft-sweep-12</a></strong> to <a href='https://wandb.ai/igmure/mnist-classifier' target=\"_blank\">Weights & Biases</a> (<a href='https://wandb.me/developer-guide' target=\"_blank\">docs</a>)<br>Sweep page: <a href='https://wandb.ai/igmure/mnist-classifier/sweeps/dqaqwep8' target=\"_blank\">https://wandb.ai/igmure/mnist-classifier/sweeps/dqaqwep8</a>"
      ],
      "text/plain": [
       "<IPython.core.display.HTML object>"
      ]
     },
     "metadata": {},
     "output_type": "display_data"
    },
    {
     "data": {
      "text/html": [
       " View project at <a href='https://wandb.ai/igmure/mnist-classifier' target=\"_blank\">https://wandb.ai/igmure/mnist-classifier</a>"
      ],
      "text/plain": [
       "<IPython.core.display.HTML object>"
      ]
     },
     "metadata": {},
     "output_type": "display_data"
    },
    {
     "data": {
      "text/html": [
       " View sweep at <a href='https://wandb.ai/igmure/mnist-classifier/sweeps/dqaqwep8' target=\"_blank\">https://wandb.ai/igmure/mnist-classifier/sweeps/dqaqwep8</a>"
      ],
      "text/plain": [
       "<IPython.core.display.HTML object>"
      ]
     },
     "metadata": {},
     "output_type": "display_data"
    },
    {
     "data": {
      "text/html": [
       " View run at <a href='https://wandb.ai/igmure/mnist-classifier/runs/awi0lajp' target=\"_blank\">https://wandb.ai/igmure/mnist-classifier/runs/awi0lajp</a>"
      ],
      "text/plain": [
       "<IPython.core.display.HTML object>"
      ]
     },
     "metadata": {},
     "output_type": "display_data"
    },
    {
     "name": "stdout",
     "output_type": "stream",
     "text": [
      "Epoch 1/15, Train Loss: 1.8124, Train Accuracy: 0.6624, Val Loss: 1.5581, Val Accuracy: 0.9044\n",
      "Epoch 2/15, Train Loss: 1.5347, Train Accuracy: 0.9279, Val Loss: 1.5175, Val Accuracy: 0.9440\n",
      "Epoch 3/15, Train Loss: 1.5126, Train Accuracy: 0.9493, Val Loss: 1.5097, Val Accuracy: 0.9518\n",
      "Epoch 4/15, Train Loss: 1.5035, Train Accuracy: 0.9578, Val Loss: 1.5029, Val Accuracy: 0.9581\n",
      "Epoch 5/15, Train Loss: 1.4976, Train Accuracy: 0.9639, Val Loss: 1.5003, Val Accuracy: 0.9608\n",
      "Epoch 6/15, Train Loss: 1.4951, Train Accuracy: 0.9662, Val Loss: 1.4946, Val Accuracy: 0.9666\n",
      "Epoch 7/15, Train Loss: 1.4919, Train Accuracy: 0.9693, Val Loss: 1.4967, Val Accuracy: 0.9642\n",
      "Epoch 8/15, Train Loss: 1.4897, Train Accuracy: 0.9716, Val Loss: 1.4950, Val Accuracy: 0.9663\n",
      "Epoch 9/15, Train Loss: 1.4897, Train Accuracy: 0.9713, Val Loss: 1.4979, Val Accuracy: 0.9627\n",
      "Epoch 10/15, Train Loss: 1.4871, Train Accuracy: 0.9742, Val Loss: 1.4920, Val Accuracy: 0.9693\n",
      "Epoch 11/15, Train Loss: 1.4875, Train Accuracy: 0.9736, Val Loss: 1.4946, Val Accuracy: 0.9666\n",
      "Epoch 12/15, Train Loss: 1.4858, Train Accuracy: 0.9752, Val Loss: 1.4983, Val Accuracy: 0.9621\n",
      "Epoch 13/15, Train Loss: 1.4864, Train Accuracy: 0.9746, Val Loss: 1.4941, Val Accuracy: 0.9671\n",
      "Epoch 14/15, Train Loss: 1.4844, Train Accuracy: 0.9766, Val Loss: 1.4907, Val Accuracy: 0.9705\n",
      "Epoch 15/15, Train Loss: 1.4848, Train Accuracy: 0.9763, Val Loss: 1.4979, Val Accuracy: 0.9634\n"
     ]
    },
    {
     "data": {
      "text/html": [],
      "text/plain": [
       "<IPython.core.display.HTML object>"
      ]
     },
     "metadata": {},
     "output_type": "display_data"
    },
    {
     "data": {
      "text/html": [
       "<br>    <style><br>        .wandb-row {<br>            display: flex;<br>            flex-direction: row;<br>            flex-wrap: wrap;<br>            justify-content: flex-start;<br>            width: 100%;<br>        }<br>        .wandb-col {<br>            display: flex;<br>            flex-direction: column;<br>            flex-basis: 100%;<br>            flex: 1;<br>            padding: 10px;<br>        }<br>    </style><br><div class=\"wandb-row\"><div class=\"wandb-col\"><h3>Run history:</h3><br/><table class=\"wandb\"><tr><td>epoch</td><td>▁▁▂▃▃▃▄▅▅▅▆▇▇▇█</td></tr><tr><td>train_accuracy</td><td>▁▇▇████████████</td></tr><tr><td>train_loss</td><td>█▂▂▁▁▁▁▁▁▁▁▁▁▁▁</td></tr><tr><td>val_accuracy</td><td>▁▅▆▇▇█▇█▇██▇██▇</td></tr><tr><td>val_loss</td><td>█▄▃▂▂▁▂▁▂▁▁▂▁▁▂</td></tr></table><br/></div><div class=\"wandb-col\"><h3>Run summary:</h3><br/><table class=\"wandb\"><tr><td>epoch</td><td>15</td></tr><tr><td>train_accuracy</td><td>0.97633</td></tr><tr><td>train_loss</td><td>1.4848</td></tr><tr><td>val_accuracy</td><td>0.9634</td></tr><tr><td>val_loss</td><td>1.49787</td></tr></table><br/></div></div>"
      ],
      "text/plain": [
       "<IPython.core.display.HTML object>"
      ]
     },
     "metadata": {},
     "output_type": "display_data"
    },
    {
     "data": {
      "text/html": [
       " View run <strong style=\"color:#cdcd00\">soft-sweep-12</strong> at: <a href='https://wandb.ai/igmure/mnist-classifier/runs/awi0lajp' target=\"_blank\">https://wandb.ai/igmure/mnist-classifier/runs/awi0lajp</a><br> View project at: <a href='https://wandb.ai/igmure/mnist-classifier' target=\"_blank\">https://wandb.ai/igmure/mnist-classifier</a><br>Synced 5 W&B file(s), 0 media file(s), 0 artifact file(s) and 0 other file(s)"
      ],
      "text/plain": [
       "<IPython.core.display.HTML object>"
      ]
     },
     "metadata": {},
     "output_type": "display_data"
    },
    {
     "data": {
      "text/html": [
       "Find logs at: <code>./wandb/run-20250128_153755-awi0lajp/logs</code>"
      ],
      "text/plain": [
       "<IPython.core.display.HTML object>"
      ]
     },
     "metadata": {},
     "output_type": "display_data"
    },
    {
     "name": "stderr",
     "output_type": "stream",
     "text": [
      "\u001b[34m\u001b[1mwandb\u001b[0m: Agent Starting Run: lps2ql2t with config:\n",
      "\u001b[34m\u001b[1mwandb\u001b[0m: \tbatch_size: 128\n",
      "\u001b[34m\u001b[1mwandb\u001b[0m: \tdropout_prob: 0.5\n",
      "\u001b[34m\u001b[1mwandb\u001b[0m: \tepochs: 15\n",
      "\u001b[34m\u001b[1mwandb\u001b[0m: \thidden1_size: 256\n",
      "\u001b[34m\u001b[1mwandb\u001b[0m: \thidden2_size: 32\n",
      "\u001b[34m\u001b[1mwandb\u001b[0m: \thidden3_size: 32\n",
      "\u001b[34m\u001b[1mwandb\u001b[0m: \tinput_size: 784\n",
      "\u001b[34m\u001b[1mwandb\u001b[0m: \tlearning_rate: 0.001\n",
      "\u001b[34m\u001b[1mwandb\u001b[0m: \toutput_size: 10\n"
     ]
    },
    {
     "data": {
      "text/html": [
       "Ignoring project 'mnist-classifier' when running a sweep."
      ],
      "text/plain": [
       "<IPython.core.display.HTML object>"
      ]
     },
     "metadata": {},
     "output_type": "display_data"
    },
    {
     "data": {
      "text/html": [
       "Tracking run with wandb version 0.19.4"
      ],
      "text/plain": [
       "<IPython.core.display.HTML object>"
      ]
     },
     "metadata": {},
     "output_type": "display_data"
    },
    {
     "data": {
      "text/html": [
       "Run data is saved locally in <code>/home/ig/ActiveProjects/pum-24/wandb/run-20250128_154016-lps2ql2t</code>"
      ],
      "text/plain": [
       "<IPython.core.display.HTML object>"
      ]
     },
     "metadata": {},
     "output_type": "display_data"
    },
    {
     "data": {
      "text/html": [
       "Syncing run <strong><a href='https://wandb.ai/igmure/mnist-classifier/runs/lps2ql2t' target=\"_blank\">warm-sweep-13</a></strong> to <a href='https://wandb.ai/igmure/mnist-classifier' target=\"_blank\">Weights & Biases</a> (<a href='https://wandb.me/developer-guide' target=\"_blank\">docs</a>)<br>Sweep page: <a href='https://wandb.ai/igmure/mnist-classifier/sweeps/dqaqwep8' target=\"_blank\">https://wandb.ai/igmure/mnist-classifier/sweeps/dqaqwep8</a>"
      ],
      "text/plain": [
       "<IPython.core.display.HTML object>"
      ]
     },
     "metadata": {},
     "output_type": "display_data"
    },
    {
     "data": {
      "text/html": [
       " View project at <a href='https://wandb.ai/igmure/mnist-classifier' target=\"_blank\">https://wandb.ai/igmure/mnist-classifier</a>"
      ],
      "text/plain": [
       "<IPython.core.display.HTML object>"
      ]
     },
     "metadata": {},
     "output_type": "display_data"
    },
    {
     "data": {
      "text/html": [
       " View sweep at <a href='https://wandb.ai/igmure/mnist-classifier/sweeps/dqaqwep8' target=\"_blank\">https://wandb.ai/igmure/mnist-classifier/sweeps/dqaqwep8</a>"
      ],
      "text/plain": [
       "<IPython.core.display.HTML object>"
      ]
     },
     "metadata": {},
     "output_type": "display_data"
    },
    {
     "data": {
      "text/html": [
       " View run at <a href='https://wandb.ai/igmure/mnist-classifier/runs/lps2ql2t' target=\"_blank\">https://wandb.ai/igmure/mnist-classifier/runs/lps2ql2t</a>"
      ],
      "text/plain": [
       "<IPython.core.display.HTML object>"
      ]
     },
     "metadata": {},
     "output_type": "display_data"
    },
    {
     "name": "stdout",
     "output_type": "stream",
     "text": [
      "Epoch 1/15, Train Loss: 1.8280, Train Accuracy: 0.6463, Val Loss: 1.5515, Val Accuracy: 0.9142\n",
      "Epoch 2/15, Train Loss: 1.5298, Train Accuracy: 0.9328, Val Loss: 1.5179, Val Accuracy: 0.9435\n",
      "Epoch 3/15, Train Loss: 1.5086, Train Accuracy: 0.9530, Val Loss: 1.5000, Val Accuracy: 0.9615\n",
      "Epoch 4/15, Train Loss: 1.4995, Train Accuracy: 0.9620, Val Loss: 1.4995, Val Accuracy: 0.9621\n",
      "Epoch 5/15, Train Loss: 1.4929, Train Accuracy: 0.9687, Val Loss: 1.4971, Val Accuracy: 0.9633\n",
      "Epoch 6/15, Train Loss: 1.4906, Train Accuracy: 0.9708, Val Loss: 1.4931, Val Accuracy: 0.9684\n",
      "Epoch 7/15, Train Loss: 1.4881, Train Accuracy: 0.9731, Val Loss: 1.4909, Val Accuracy: 0.9703\n",
      "Epoch 8/15, Train Loss: 1.4856, Train Accuracy: 0.9756, Val Loss: 1.4904, Val Accuracy: 0.9705\n",
      "Epoch 9/15, Train Loss: 1.4839, Train Accuracy: 0.9772, Val Loss: 1.4896, Val Accuracy: 0.9712\n",
      "Epoch 10/15, Train Loss: 1.4839, Train Accuracy: 0.9774, Val Loss: 1.4887, Val Accuracy: 0.9723\n",
      "Epoch 11/15, Train Loss: 1.4830, Train Accuracy: 0.9782, Val Loss: 1.4898, Val Accuracy: 0.9710\n",
      "Epoch 12/15, Train Loss: 1.4813, Train Accuracy: 0.9798, Val Loss: 1.4926, Val Accuracy: 0.9684\n",
      "Epoch 13/15, Train Loss: 1.4808, Train Accuracy: 0.9803, Val Loss: 1.4885, Val Accuracy: 0.9726\n",
      "Epoch 14/15, Train Loss: 1.4823, Train Accuracy: 0.9788, Val Loss: 1.4907, Val Accuracy: 0.9701\n",
      "Epoch 15/15, Train Loss: 1.4804, Train Accuracy: 0.9806, Val Loss: 1.4884, Val Accuracy: 0.9726\n"
     ]
    },
    {
     "data": {
      "text/html": [],
      "text/plain": [
       "<IPython.core.display.HTML object>"
      ]
     },
     "metadata": {},
     "output_type": "display_data"
    },
    {
     "data": {
      "text/html": [
       "<br>    <style><br>        .wandb-row {<br>            display: flex;<br>            flex-direction: row;<br>            flex-wrap: wrap;<br>            justify-content: flex-start;<br>            width: 100%;<br>        }<br>        .wandb-col {<br>            display: flex;<br>            flex-direction: column;<br>            flex-basis: 100%;<br>            flex: 1;<br>            padding: 10px;<br>        }<br>    </style><br><div class=\"wandb-row\"><div class=\"wandb-col\"><h3>Run history:</h3><br/><table class=\"wandb\"><tr><td>epoch</td><td>▁▁▂▃▃▃▄▅▅▅▆▇▇▇█</td></tr><tr><td>train_accuracy</td><td>▁▇▇████████████</td></tr><tr><td>train_loss</td><td>█▂▂▁▁▁▁▁▁▁▁▁▁▁▁</td></tr><tr><td>val_accuracy</td><td>▁▅▇▇▇▇█████▇███</td></tr><tr><td>val_loss</td><td>█▄▂▂▂▂▁▁▁▁▁▁▁▁▁</td></tr></table><br/></div><div class=\"wandb-col\"><h3>Run summary:</h3><br/><table class=\"wandb\"><tr><td>epoch</td><td>15</td></tr><tr><td>train_accuracy</td><td>0.98062</td></tr><tr><td>train_loss</td><td>1.48035</td></tr><tr><td>val_accuracy</td><td>0.9726</td></tr><tr><td>val_loss</td><td>1.48845</td></tr></table><br/></div></div>"
      ],
      "text/plain": [
       "<IPython.core.display.HTML object>"
      ]
     },
     "metadata": {},
     "output_type": "display_data"
    },
    {
     "data": {
      "text/html": [
       " View run <strong style=\"color:#cdcd00\">warm-sweep-13</strong> at: <a href='https://wandb.ai/igmure/mnist-classifier/runs/lps2ql2t' target=\"_blank\">https://wandb.ai/igmure/mnist-classifier/runs/lps2ql2t</a><br> View project at: <a href='https://wandb.ai/igmure/mnist-classifier' target=\"_blank\">https://wandb.ai/igmure/mnist-classifier</a><br>Synced 5 W&B file(s), 0 media file(s), 0 artifact file(s) and 0 other file(s)"
      ],
      "text/plain": [
       "<IPython.core.display.HTML object>"
      ]
     },
     "metadata": {},
     "output_type": "display_data"
    },
    {
     "data": {
      "text/html": [
       "Find logs at: <code>./wandb/run-20250128_154016-lps2ql2t/logs</code>"
      ],
      "text/plain": [
       "<IPython.core.display.HTML object>"
      ]
     },
     "metadata": {},
     "output_type": "display_data"
    },
    {
     "name": "stderr",
     "output_type": "stream",
     "text": [
      "\u001b[34m\u001b[1mwandb\u001b[0m: Agent Starting Run: 50882kej with config:\n",
      "\u001b[34m\u001b[1mwandb\u001b[0m: \tbatch_size: 64\n",
      "\u001b[34m\u001b[1mwandb\u001b[0m: \tdropout_prob: 0.25\n",
      "\u001b[34m\u001b[1mwandb\u001b[0m: \tepochs: 15\n",
      "\u001b[34m\u001b[1mwandb\u001b[0m: \thidden1_size: 256\n",
      "\u001b[34m\u001b[1mwandb\u001b[0m: \thidden2_size: 64\n",
      "\u001b[34m\u001b[1mwandb\u001b[0m: \thidden3_size: 64\n",
      "\u001b[34m\u001b[1mwandb\u001b[0m: \tinput_size: 784\n",
      "\u001b[34m\u001b[1mwandb\u001b[0m: \tlearning_rate: 0.001\n",
      "\u001b[34m\u001b[1mwandb\u001b[0m: \toutput_size: 10\n"
     ]
    },
    {
     "data": {
      "text/html": [
       "Ignoring project 'mnist-classifier' when running a sweep."
      ],
      "text/plain": [
       "<IPython.core.display.HTML object>"
      ]
     },
     "metadata": {},
     "output_type": "display_data"
    },
    {
     "data": {
      "text/html": [
       "Tracking run with wandb version 0.19.4"
      ],
      "text/plain": [
       "<IPython.core.display.HTML object>"
      ]
     },
     "metadata": {},
     "output_type": "display_data"
    },
    {
     "data": {
      "text/html": [
       "Run data is saved locally in <code>/home/ig/ActiveProjects/pum-24/wandb/run-20250128_154218-50882kej</code>"
      ],
      "text/plain": [
       "<IPython.core.display.HTML object>"
      ]
     },
     "metadata": {},
     "output_type": "display_data"
    },
    {
     "data": {
      "text/html": [
       "Syncing run <strong><a href='https://wandb.ai/igmure/mnist-classifier/runs/50882kej' target=\"_blank\">electric-sweep-14</a></strong> to <a href='https://wandb.ai/igmure/mnist-classifier' target=\"_blank\">Weights & Biases</a> (<a href='https://wandb.me/developer-guide' target=\"_blank\">docs</a>)<br>Sweep page: <a href='https://wandb.ai/igmure/mnist-classifier/sweeps/dqaqwep8' target=\"_blank\">https://wandb.ai/igmure/mnist-classifier/sweeps/dqaqwep8</a>"
      ],
      "text/plain": [
       "<IPython.core.display.HTML object>"
      ]
     },
     "metadata": {},
     "output_type": "display_data"
    },
    {
     "data": {
      "text/html": [
       " View project at <a href='https://wandb.ai/igmure/mnist-classifier' target=\"_blank\">https://wandb.ai/igmure/mnist-classifier</a>"
      ],
      "text/plain": [
       "<IPython.core.display.HTML object>"
      ]
     },
     "metadata": {},
     "output_type": "display_data"
    },
    {
     "data": {
      "text/html": [
       " View sweep at <a href='https://wandb.ai/igmure/mnist-classifier/sweeps/dqaqwep8' target=\"_blank\">https://wandb.ai/igmure/mnist-classifier/sweeps/dqaqwep8</a>"
      ],
      "text/plain": [
       "<IPython.core.display.HTML object>"
      ]
     },
     "metadata": {},
     "output_type": "display_data"
    },
    {
     "data": {
      "text/html": [
       " View run at <a href='https://wandb.ai/igmure/mnist-classifier/runs/50882kej' target=\"_blank\">https://wandb.ai/igmure/mnist-classifier/runs/50882kej</a>"
      ],
      "text/plain": [
       "<IPython.core.display.HTML object>"
      ]
     },
     "metadata": {},
     "output_type": "display_data"
    },
    {
     "name": "stdout",
     "output_type": "stream",
     "text": [
      "Epoch 1/15, Train Loss: 1.6288, Train Accuracy: 0.8413, Val Loss: 1.5331, Val Accuracy: 0.9275\n",
      "Epoch 2/15, Train Loss: 1.5182, Train Accuracy: 0.9439, Val Loss: 1.5064, Val Accuracy: 0.9552\n",
      "Epoch 3/15, Train Loss: 1.5048, Train Accuracy: 0.9570, Val Loss: 1.5051, Val Accuracy: 0.9562\n",
      "Epoch 4/15, Train Loss: 1.4974, Train Accuracy: 0.9640, Val Loss: 1.4971, Val Accuracy: 0.9638\n",
      "Epoch 5/15, Train Loss: 1.4942, Train Accuracy: 0.9670, Val Loss: 1.5031, Val Accuracy: 0.9577\n",
      "Epoch 6/15, Train Loss: 1.4917, Train Accuracy: 0.9695, Val Loss: 1.4948, Val Accuracy: 0.9664\n",
      "Epoch 7/15, Train Loss: 1.4906, Train Accuracy: 0.9706, Val Loss: 1.4898, Val Accuracy: 0.9711\n",
      "Epoch 8/15, Train Loss: 1.4889, Train Accuracy: 0.9721, Val Loss: 1.4924, Val Accuracy: 0.9688\n",
      "Epoch 9/15, Train Loss: 1.4884, Train Accuracy: 0.9728, Val Loss: 1.4906, Val Accuracy: 0.9702\n",
      "Epoch 10/15, Train Loss: 1.4871, Train Accuracy: 0.9740, Val Loss: 1.4948, Val Accuracy: 0.9660\n",
      "Epoch 11/15, Train Loss: 1.4877, Train Accuracy: 0.9734, Val Loss: 1.4931, Val Accuracy: 0.9682\n",
      "Epoch 12/15, Train Loss: 1.4881, Train Accuracy: 0.9730, Val Loss: 1.4883, Val Accuracy: 0.9727\n",
      "Epoch 13/15, Train Loss: 1.4871, Train Accuracy: 0.9740, Val Loss: 1.4942, Val Accuracy: 0.9669\n",
      "Epoch 14/15, Train Loss: 1.4879, Train Accuracy: 0.9732, Val Loss: 1.4906, Val Accuracy: 0.9705\n",
      "Epoch 15/15, Train Loss: 1.4857, Train Accuracy: 0.9753, Val Loss: 1.4941, Val Accuracy: 0.9670\n"
     ]
    },
    {
     "data": {
      "text/html": [],
      "text/plain": [
       "<IPython.core.display.HTML object>"
      ]
     },
     "metadata": {},
     "output_type": "display_data"
    },
    {
     "data": {
      "text/html": [
       "<br>    <style><br>        .wandb-row {<br>            display: flex;<br>            flex-direction: row;<br>            flex-wrap: wrap;<br>            justify-content: flex-start;<br>            width: 100%;<br>        }<br>        .wandb-col {<br>            display: flex;<br>            flex-direction: column;<br>            flex-basis: 100%;<br>            flex: 1;<br>            padding: 10px;<br>        }<br>    </style><br><div class=\"wandb-row\"><div class=\"wandb-col\"><h3>Run history:</h3><br/><table class=\"wandb\"><tr><td>epoch</td><td>▁▁▂▃▃▃▄▅▅▅▆▇▇▇█</td></tr><tr><td>train_accuracy</td><td>▁▆▇▇███████████</td></tr><tr><td>train_loss</td><td>█▃▂▂▁▁▁▁▁▁▁▁▁▁▁</td></tr><tr><td>val_accuracy</td><td>▁▅▅▇▆▇█▇█▇▇█▇█▇</td></tr><tr><td>val_loss</td><td>█▄▄▂▃▂▁▂▁▂▂▁▂▁▂</td></tr></table><br/></div><div class=\"wandb-col\"><h3>Run summary:</h3><br/><table class=\"wandb\"><tr><td>epoch</td><td>15</td></tr><tr><td>train_accuracy</td><td>0.97535</td></tr><tr><td>train_loss</td><td>1.48573</td></tr><tr><td>val_accuracy</td><td>0.967</td></tr><tr><td>val_loss</td><td>1.4941</td></tr></table><br/></div></div>"
      ],
      "text/plain": [
       "<IPython.core.display.HTML object>"
      ]
     },
     "metadata": {},
     "output_type": "display_data"
    },
    {
     "data": {
      "text/html": [
       " View run <strong style=\"color:#cdcd00\">electric-sweep-14</strong> at: <a href='https://wandb.ai/igmure/mnist-classifier/runs/50882kej' target=\"_blank\">https://wandb.ai/igmure/mnist-classifier/runs/50882kej</a><br> View project at: <a href='https://wandb.ai/igmure/mnist-classifier' target=\"_blank\">https://wandb.ai/igmure/mnist-classifier</a><br>Synced 5 W&B file(s), 0 media file(s), 0 artifact file(s) and 0 other file(s)"
      ],
      "text/plain": [
       "<IPython.core.display.HTML object>"
      ]
     },
     "metadata": {},
     "output_type": "display_data"
    },
    {
     "data": {
      "text/html": [
       "Find logs at: <code>./wandb/run-20250128_154218-50882kej/logs</code>"
      ],
      "text/plain": [
       "<IPython.core.display.HTML object>"
      ]
     },
     "metadata": {},
     "output_type": "display_data"
    },
    {
     "name": "stderr",
     "output_type": "stream",
     "text": [
      "\u001b[34m\u001b[1mwandb\u001b[0m: Agent Starting Run: fyu7f9iq with config:\n",
      "\u001b[34m\u001b[1mwandb\u001b[0m: \tbatch_size: 32\n",
      "\u001b[34m\u001b[1mwandb\u001b[0m: \tdropout_prob: 0.5\n",
      "\u001b[34m\u001b[1mwandb\u001b[0m: \tepochs: 15\n",
      "\u001b[34m\u001b[1mwandb\u001b[0m: \thidden1_size: 256\n",
      "\u001b[34m\u001b[1mwandb\u001b[0m: \thidden2_size: 64\n",
      "\u001b[34m\u001b[1mwandb\u001b[0m: \thidden3_size: 64\n",
      "\u001b[34m\u001b[1mwandb\u001b[0m: \tinput_size: 784\n",
      "\u001b[34m\u001b[1mwandb\u001b[0m: \tlearning_rate: 0.001\n",
      "\u001b[34m\u001b[1mwandb\u001b[0m: \toutput_size: 10\n"
     ]
    },
    {
     "data": {
      "text/html": [
       "Ignoring project 'mnist-classifier' when running a sweep."
      ],
      "text/plain": [
       "<IPython.core.display.HTML object>"
      ]
     },
     "metadata": {},
     "output_type": "display_data"
    },
    {
     "data": {
      "text/html": [
       "Tracking run with wandb version 0.19.4"
      ],
      "text/plain": [
       "<IPython.core.display.HTML object>"
      ]
     },
     "metadata": {},
     "output_type": "display_data"
    },
    {
     "data": {
      "text/html": [
       "Run data is saved locally in <code>/home/ig/ActiveProjects/pum-24/wandb/run-20250128_154436-fyu7f9iq</code>"
      ],
      "text/plain": [
       "<IPython.core.display.HTML object>"
      ]
     },
     "metadata": {},
     "output_type": "display_data"
    },
    {
     "data": {
      "text/html": [
       "Syncing run <strong><a href='https://wandb.ai/igmure/mnist-classifier/runs/fyu7f9iq' target=\"_blank\">iconic-sweep-15</a></strong> to <a href='https://wandb.ai/igmure/mnist-classifier' target=\"_blank\">Weights & Biases</a> (<a href='https://wandb.me/developer-guide' target=\"_blank\">docs</a>)<br>Sweep page: <a href='https://wandb.ai/igmure/mnist-classifier/sweeps/dqaqwep8' target=\"_blank\">https://wandb.ai/igmure/mnist-classifier/sweeps/dqaqwep8</a>"
      ],
      "text/plain": [
       "<IPython.core.display.HTML object>"
      ]
     },
     "metadata": {},
     "output_type": "display_data"
    },
    {
     "data": {
      "text/html": [
       " View project at <a href='https://wandb.ai/igmure/mnist-classifier' target=\"_blank\">https://wandb.ai/igmure/mnist-classifier</a>"
      ],
      "text/plain": [
       "<IPython.core.display.HTML object>"
      ]
     },
     "metadata": {},
     "output_type": "display_data"
    },
    {
     "data": {
      "text/html": [
       " View sweep at <a href='https://wandb.ai/igmure/mnist-classifier/sweeps/dqaqwep8' target=\"_blank\">https://wandb.ai/igmure/mnist-classifier/sweeps/dqaqwep8</a>"
      ],
      "text/plain": [
       "<IPython.core.display.HTML object>"
      ]
     },
     "metadata": {},
     "output_type": "display_data"
    },
    {
     "data": {
      "text/html": [
       " View run at <a href='https://wandb.ai/igmure/mnist-classifier/runs/fyu7f9iq' target=\"_blank\">https://wandb.ai/igmure/mnist-classifier/runs/fyu7f9iq</a>"
      ],
      "text/plain": [
       "<IPython.core.display.HTML object>"
      ]
     },
     "metadata": {},
     "output_type": "display_data"
    },
    {
     "name": "stdout",
     "output_type": "stream",
     "text": [
      "Epoch 1/15, Train Loss: 1.7138, Train Accuracy: 0.7580, Val Loss: 1.5405, Val Accuracy: 0.9211\n",
      "Epoch 2/15, Train Loss: 1.5270, Train Accuracy: 0.9345, Val Loss: 1.5131, Val Accuracy: 0.9488\n",
      "Epoch 3/15, Train Loss: 1.5077, Train Accuracy: 0.9540, Val Loss: 1.5031, Val Accuracy: 0.9589\n",
      "Epoch 4/15, Train Loss: 1.5008, Train Accuracy: 0.9605, Val Loss: 1.5034, Val Accuracy: 0.9575\n",
      "Epoch 5/15, Train Loss: 1.4956, Train Accuracy: 0.9657, Val Loss: 1.4924, Val Accuracy: 0.9690\n",
      "Epoch 6/15, Train Loss: 1.4934, Train Accuracy: 0.9678, Val Loss: 1.4959, Val Accuracy: 0.9652\n",
      "Epoch 7/15, Train Loss: 1.4918, Train Accuracy: 0.9693, Val Loss: 1.4948, Val Accuracy: 0.9660\n",
      "Epoch 8/15, Train Loss: 1.4894, Train Accuracy: 0.9718, Val Loss: 1.4964, Val Accuracy: 0.9646\n",
      "Epoch 9/15, Train Loss: 1.4898, Train Accuracy: 0.9714, Val Loss: 1.4929, Val Accuracy: 0.9683\n",
      "Epoch 10/15, Train Loss: 1.4886, Train Accuracy: 0.9725, Val Loss: 1.4917, Val Accuracy: 0.9695\n",
      "Epoch 11/15, Train Loss: 1.4863, Train Accuracy: 0.9749, Val Loss: 1.4924, Val Accuracy: 0.9687\n",
      "Epoch 12/15, Train Loss: 1.4883, Train Accuracy: 0.9729, Val Loss: 1.4922, Val Accuracy: 0.9689\n",
      "Epoch 13/15, Train Loss: 1.4886, Train Accuracy: 0.9725, Val Loss: 1.5032, Val Accuracy: 0.9579\n",
      "Epoch 14/15, Train Loss: 1.4872, Train Accuracy: 0.9739, Val Loss: 1.4932, Val Accuracy: 0.9676\n",
      "Epoch 15/15, Train Loss: 1.4871, Train Accuracy: 0.9739, Val Loss: 1.4927, Val Accuracy: 0.9680\n"
     ]
    },
    {
     "data": {
      "text/html": [],
      "text/plain": [
       "<IPython.core.display.HTML object>"
      ]
     },
     "metadata": {},
     "output_type": "display_data"
    },
    {
     "data": {
      "text/html": [
       "<br>    <style><br>        .wandb-row {<br>            display: flex;<br>            flex-direction: row;<br>            flex-wrap: wrap;<br>            justify-content: flex-start;<br>            width: 100%;<br>        }<br>        .wandb-col {<br>            display: flex;<br>            flex-direction: column;<br>            flex-basis: 100%;<br>            flex: 1;<br>            padding: 10px;<br>        }<br>    </style><br><div class=\"wandb-row\"><div class=\"wandb-col\"><h3>Run history:</h3><br/><table class=\"wandb\"><tr><td>epoch</td><td>▁▁▂▃▃▃▄▅▅▅▆▇▇▇█</td></tr><tr><td>train_accuracy</td><td>▁▇▇████████████</td></tr><tr><td>train_loss</td><td>█▂▂▁▁▁▁▁▁▁▁▁▁▁▁</td></tr><tr><td>val_accuracy</td><td>▁▅▆▆█▇▇▇████▆██</td></tr><tr><td>val_loss</td><td>█▄▃▃▁▂▁▂▁▁▁▁▃▁▁</td></tr></table><br/></div><div class=\"wandb-col\"><h3>Run summary:</h3><br/><table class=\"wandb\"><tr><td>epoch</td><td>15</td></tr><tr><td>train_accuracy</td><td>0.97392</td></tr><tr><td>train_loss</td><td>1.48715</td></tr><tr><td>val_accuracy</td><td>0.968</td></tr><tr><td>val_loss</td><td>1.49266</td></tr></table><br/></div></div>"
      ],
      "text/plain": [
       "<IPython.core.display.HTML object>"
      ]
     },
     "metadata": {},
     "output_type": "display_data"
    },
    {
     "data": {
      "text/html": [
       " View run <strong style=\"color:#cdcd00\">iconic-sweep-15</strong> at: <a href='https://wandb.ai/igmure/mnist-classifier/runs/fyu7f9iq' target=\"_blank\">https://wandb.ai/igmure/mnist-classifier/runs/fyu7f9iq</a><br> View project at: <a href='https://wandb.ai/igmure/mnist-classifier' target=\"_blank\">https://wandb.ai/igmure/mnist-classifier</a><br>Synced 5 W&B file(s), 0 media file(s), 0 artifact file(s) and 0 other file(s)"
      ],
      "text/plain": [
       "<IPython.core.display.HTML object>"
      ]
     },
     "metadata": {},
     "output_type": "display_data"
    },
    {
     "data": {
      "text/html": [
       "Find logs at: <code>./wandb/run-20250128_154436-fyu7f9iq/logs</code>"
      ],
      "text/plain": [
       "<IPython.core.display.HTML object>"
      ]
     },
     "metadata": {},
     "output_type": "display_data"
    },
    {
     "name": "stderr",
     "output_type": "stream",
     "text": [
      "\u001b[34m\u001b[1mwandb\u001b[0m: Agent Starting Run: e7ifi15n with config:\n",
      "\u001b[34m\u001b[1mwandb\u001b[0m: \tbatch_size: 128\n",
      "\u001b[34m\u001b[1mwandb\u001b[0m: \tdropout_prob: 0.5\n",
      "\u001b[34m\u001b[1mwandb\u001b[0m: \tepochs: 15\n",
      "\u001b[34m\u001b[1mwandb\u001b[0m: \thidden1_size: 256\n",
      "\u001b[34m\u001b[1mwandb\u001b[0m: \thidden2_size: 64\n",
      "\u001b[34m\u001b[1mwandb\u001b[0m: \thidden3_size: 64\n",
      "\u001b[34m\u001b[1mwandb\u001b[0m: \tinput_size: 784\n",
      "\u001b[34m\u001b[1mwandb\u001b[0m: \tlearning_rate: 0.0001\n",
      "\u001b[34m\u001b[1mwandb\u001b[0m: \toutput_size: 10\n"
     ]
    },
    {
     "data": {
      "text/html": [
       "Ignoring project 'mnist-classifier' when running a sweep."
      ],
      "text/plain": [
       "<IPython.core.display.HTML object>"
      ]
     },
     "metadata": {},
     "output_type": "display_data"
    },
    {
     "data": {
      "text/html": [
       "Tracking run with wandb version 0.19.4"
      ],
      "text/plain": [
       "<IPython.core.display.HTML object>"
      ]
     },
     "metadata": {},
     "output_type": "display_data"
    },
    {
     "data": {
      "text/html": [
       "Run data is saved locally in <code>/home/ig/ActiveProjects/pum-24/wandb/run-20250128_154659-e7ifi15n</code>"
      ],
      "text/plain": [
       "<IPython.core.display.HTML object>"
      ]
     },
     "metadata": {},
     "output_type": "display_data"
    },
    {
     "data": {
      "text/html": [
       "Syncing run <strong><a href='https://wandb.ai/igmure/mnist-classifier/runs/e7ifi15n' target=\"_blank\">pleasant-sweep-16</a></strong> to <a href='https://wandb.ai/igmure/mnist-classifier' target=\"_blank\">Weights & Biases</a> (<a href='https://wandb.me/developer-guide' target=\"_blank\">docs</a>)<br>Sweep page: <a href='https://wandb.ai/igmure/mnist-classifier/sweeps/dqaqwep8' target=\"_blank\">https://wandb.ai/igmure/mnist-classifier/sweeps/dqaqwep8</a>"
      ],
      "text/plain": [
       "<IPython.core.display.HTML object>"
      ]
     },
     "metadata": {},
     "output_type": "display_data"
    },
    {
     "data": {
      "text/html": [
       " View project at <a href='https://wandb.ai/igmure/mnist-classifier' target=\"_blank\">https://wandb.ai/igmure/mnist-classifier</a>"
      ],
      "text/plain": [
       "<IPython.core.display.HTML object>"
      ]
     },
     "metadata": {},
     "output_type": "display_data"
    },
    {
     "data": {
      "text/html": [
       " View sweep at <a href='https://wandb.ai/igmure/mnist-classifier/sweeps/dqaqwep8' target=\"_blank\">https://wandb.ai/igmure/mnist-classifier/sweeps/dqaqwep8</a>"
      ],
      "text/plain": [
       "<IPython.core.display.HTML object>"
      ]
     },
     "metadata": {},
     "output_type": "display_data"
    },
    {
     "data": {
      "text/html": [
       " View run at <a href='https://wandb.ai/igmure/mnist-classifier/runs/e7ifi15n' target=\"_blank\">https://wandb.ai/igmure/mnist-classifier/runs/e7ifi15n</a>"
      ],
      "text/plain": [
       "<IPython.core.display.HTML object>"
      ]
     },
     "metadata": {},
     "output_type": "display_data"
    },
    {
     "name": "stdout",
     "output_type": "stream",
     "text": [
      "Epoch 1/15, Train Loss: 1.9956, Train Accuracy: 0.5081, Val Loss: 1.6904, Val Accuracy: 0.7939\n",
      "Epoch 2/15, Train Loss: 1.6153, Train Accuracy: 0.8612, Val Loss: 1.5692, Val Accuracy: 0.9019\n",
      "Epoch 3/15, Train Loss: 1.5605, Train Accuracy: 0.9084, Val Loss: 1.5482, Val Accuracy: 0.9199\n",
      "Epoch 4/15, Train Loss: 1.5423, Train Accuracy: 0.9250, Val Loss: 1.5367, Val Accuracy: 0.9295\n",
      "Epoch 5/15, Train Loss: 1.5303, Train Accuracy: 0.9353, Val Loss: 1.5292, Val Accuracy: 0.9365\n",
      "Epoch 6/15, Train Loss: 1.5206, Train Accuracy: 0.9449, Val Loss: 1.5188, Val Accuracy: 0.9456\n",
      "Epoch 7/15, Train Loss: 1.5137, Train Accuracy: 0.9511, Val Loss: 1.5141, Val Accuracy: 0.9495\n",
      "Epoch 8/15, Train Loss: 1.5082, Train Accuracy: 0.9566, Val Loss: 1.5093, Val Accuracy: 0.9540\n",
      "Epoch 9/15, Train Loss: 1.5039, Train Accuracy: 0.9602, Val Loss: 1.5057, Val Accuracy: 0.9578\n"
     ]
    },
    {
     "name": "stderr",
     "output_type": "stream",
     "text": [
      "\u001b[34m\u001b[1mwandb\u001b[0m: Ctrl + C detected. Stopping sweep.\n"
     ]
    },
    {
     "name": "stdout",
     "output_type": "stream",
     "text": [
      "Epoch 10/15, Train Loss: 1.5000, Train Accuracy: 0.9637, Val Loss: 1.5035, Val Accuracy: 0.9594\n",
      "Epoch 11/15, Train Loss: 1.4967, Train Accuracy: 0.9670, Val Loss: 1.5012, Val Accuracy: 0.9613\n",
      "Epoch 12/15, Train Loss: 1.4941, Train Accuracy: 0.9698, Val Loss: 1.5006, Val Accuracy: 0.9616\n",
      "Epoch 13/15, Train Loss: 1.4916, Train Accuracy: 0.9720, Val Loss: 1.4983, Val Accuracy: 0.9639\n",
      "Epoch 14/15, Train Loss: 1.4892, Train Accuracy: 0.9744, Val Loss: 1.4969, Val Accuracy: 0.9646\n",
      "Epoch 15/15, Train Loss: 1.4873, Train Accuracy: 0.9761, Val Loss: 1.4958, Val Accuracy: 0.9666\n"
     ]
    },
    {
     "data": {
      "text/html": [],
      "text/plain": [
       "<IPython.core.display.HTML object>"
      ]
     },
     "metadata": {},
     "output_type": "display_data"
    },
    {
     "data": {
      "text/html": [
       "<br>    <style><br>        .wandb-row {<br>            display: flex;<br>            flex-direction: row;<br>            flex-wrap: wrap;<br>            justify-content: flex-start;<br>            width: 100%;<br>        }<br>        .wandb-col {<br>            display: flex;<br>            flex-direction: column;<br>            flex-basis: 100%;<br>            flex: 1;<br>            padding: 10px;<br>        }<br>    </style><br><div class=\"wandb-row\"><div class=\"wandb-col\"><h3>Run history:</h3><br/><table class=\"wandb\"><tr><td>epoch</td><td>▁▁▂▃▃▃▄▅▅▅▆▇▇▇█</td></tr><tr><td>train_accuracy</td><td>▁▆▇▇▇██████████</td></tr><tr><td>train_loss</td><td>█▃▂▂▂▁▁▁▁▁▁▁▁▁▁</td></tr><tr><td>val_accuracy</td><td>▁▅▆▆▇▇▇▇███████</td></tr><tr><td>val_loss</td><td>█▄▃▂▂▂▂▁▁▁▁▁▁▁▁</td></tr></table><br/></div><div class=\"wandb-col\"><h3>Run summary:</h3><br/><table class=\"wandb\"><tr><td>epoch</td><td>15</td></tr><tr><td>train_accuracy</td><td>0.97607</td></tr><tr><td>train_loss</td><td>1.48728</td></tr><tr><td>val_accuracy</td><td>0.9666</td></tr><tr><td>val_loss</td><td>1.49577</td></tr></table><br/></div></div>"
      ],
      "text/plain": [
       "<IPython.core.display.HTML object>"
      ]
     },
     "metadata": {},
     "output_type": "display_data"
    },
    {
     "data": {
      "text/html": [
       " View run <strong style=\"color:#cdcd00\">pleasant-sweep-16</strong> at: <a href='https://wandb.ai/igmure/mnist-classifier/runs/e7ifi15n' target=\"_blank\">https://wandb.ai/igmure/mnist-classifier/runs/e7ifi15n</a><br> View project at: <a href='https://wandb.ai/igmure/mnist-classifier' target=\"_blank\">https://wandb.ai/igmure/mnist-classifier</a><br>Synced 5 W&B file(s), 0 media file(s), 0 artifact file(s) and 0 other file(s)"
      ],
      "text/plain": [
       "<IPython.core.display.HTML object>"
      ]
     },
     "metadata": {},
     "output_type": "display_data"
    },
    {
     "data": {
      "text/html": [
       "Find logs at: <code>./wandb/run-20250128_154659-e7ifi15n/logs</code>"
      ],
      "text/plain": [
       "<IPython.core.display.HTML object>"
      ]
     },
     "metadata": {},
     "output_type": "display_data"
    }
   ],
   "source": [
    "parameters = {\n",
    "    'input_size': {'values': [784]},\n",
    "    'output_size': {'values': [10]},\n",
    "    'learning_rate': {'values': [0.01, 0.001, 0.0001]},\n",
    "    'batch_size': {'values': [16, 32, 64, 128]},\n",
    "    'hidden1_size': {'values': [64, 128, 256]},\n",
    "    'hidden2_size': {'values': [32, 64, 128]},\n",
    "    'hidden3_size': {'values': [16, 32, 64]},\n",
    "    'dropout_prob': {'values': [0.0, 0.25, 0.5]},\n",
    "    'epochs': {'values': [5, 10, 15]}\n",
    "}\n",
    "\n",
    "sweep_config = {\n",
    "    'name': 'mnist-sweep',\n",
    "    'method': 'bayes', # try 'grid' or 'random'\n",
    "    'metric': {'goal': 'maximize', 'name': 'val_accuracy'}, # if we want to maximize the accuracy\n",
    "    # remember to log the metric that you want to maximize or minimize!\n",
    "    'parameters': parameters,\n",
    "}\n",
    "\n",
    "sweep_id = wandb.sweep(sweep_config, project='mnist-classifier')    # This will create a new sweep\n",
    "wandb.agent(sweep_id, function=train)   # This will start the hyperparameter tuning process"
   ]
  }
 ],
 "metadata": {
  "kernelspec": {
   "display_name": "ml",
   "language": "python",
   "name": "python3"
  },
  "language_info": {
   "codemirror_mode": {
    "name": "ipython",
    "version": 3
   },
   "file_extension": ".py",
   "mimetype": "text/x-python",
   "name": "python",
   "nbconvert_exporter": "python",
   "pygments_lexer": "ipython3",
   "version": "3.10.15"
  }
 },
 "nbformat": 4,
 "nbformat_minor": 5
}
